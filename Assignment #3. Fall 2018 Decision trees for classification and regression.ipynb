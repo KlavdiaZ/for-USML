{
 "cells": [
  {
   "cell_type": "code",
   "execution_count": 303,
   "metadata": {},
   "outputs": [],
   "source": [
    "import numpy as np\n",
    "import pandas as pd\n",
    "from matplotlib import pyplot as plt\n",
    "from sklearn.model_selection import train_test_split, GridSearchCV\n",
    "from sklearn.metrics import accuracy_score\n",
    "from sklearn.tree import DecisionTreeClassifier, export_graphviz"
   ]
  },
  {
   "cell_type": "code",
   "execution_count": 304,
   "metadata": {},
   "outputs": [
    {
     "data": {
      "image/png": "[encoded data removed]",
      "text/plain": [
       "<Figure size 720x576 with 1 Axes>"
      ]
     },
     "metadata": {
      "needs_background": "light"
     },
     "output_type": "display_data"
    }
   ],
   "source": [
    "X = np.linspace(-2, 2, 7)\n",
    "y = X ** 3\n",
    "\n",
    "plt.scatter(X, y)\n",
    "plt.xlabel(r'$x$')\n",
    "plt.ylabel(r'$y$');"
   ]
  },
  {
   "cell_type": "code",
   "execution_count": 305,
   "metadata": {},
   "outputs": [
    {
     "name": "stdout",
     "output_type": "stream",
     "text": [
      "[-3.375, -1.0, -0.125, 0.0, 0.125, 1.0, 3.375]\n"
     ]
    }
   ],
   "source": [
    "# Let's make several steps to build the decision tree. Let's choose the symmetric thresholds equal to 0, 1.5 and \n",
    "#-1.5 for partitioning. In the case of a regression task, the leaf outputs mean answer for all observations in this \n",
    "#leaf. Let's start from tree of depth 0 that contains all train observations. How will predictions of this tree look \n",
    "#like for x∈[−2,2]? Create the appropriate plot using a pen, paper and Python if it is needed (without using sklearn).\n",
    "\n",
    "XX = [-1.5, -1.0, -0.5, 0.0, 0.5, 1.0, 1.5]\n",
    "YY = [i**3 for i in XX]\n",
    "\n",
    "import numpy as np\n",
    "XX=np.array(XX).reshape(-1,1)\n",
    "print(YY)"
   ]
  },
  {
   "cell_type": "code",
   "execution_count": 306,
   "metadata": {},
   "outputs": [
    {
     "data": {
      "text/plain": [
       "DecisionTreeRegressor(criterion='mse', max_depth=1, max_features=None,\n",
       "           max_leaf_nodes=None, min_impurity_decrease=0.0,\n",
       "           min_impurity_split=None, min_samples_leaf=1,\n",
       "           min_samples_split=2, min_weight_fraction_leaf=0.0,\n",
       "           presort=False, random_state=3, splitter='best')"
      ]
     },
     "execution_count": 306,
     "metadata": {},
     "output_type": "execute_result"
    }
   ],
   "source": [
    "from sklearn.tree import DecisionTreeRegressor\n",
    "tr=DecisionTreeRegressor(random_state=3, max_depth=1)\n",
    "tr.fit(XX,YY)"
   ]
  },
  {
   "cell_type": "code",
   "execution_count": 307,
   "metadata": {},
   "outputs": [
    {
     "data": {
      "image/svg+xml": [
       "<?xml version=\"1.0\" encoding=\"UTF-8\" standalone=\"no\"?>\n",
       "<!DOCTYPE svg PUBLIC \"-//W3C//DTD SVG 1.1//EN\"\n",
       " \"http://www.w3.org/Graphics/SVG/1.1/DTD/svg11.dtd\">\n",
       "<!-- Generated by graphviz version 2.40.1 (20161225.0304)\n",
       " -->\n",
       "<!-- Title: Tree Pages: 1 -->\n",
       "<svg width=\"232pt\" height=\"158pt\"\n",
       " viewBox=\"0.00 0.00 231.79 158.00\" xmlns=\"http://www.w3.org/2000/svg\" xmlns:xlink=\"http://www.w3.org/1999/xlink\">\n",
       "<g id=\"graph0\" class=\"graph\" transform=\"scale(1 1) rotate(0) translate(4 154)\">\n",
       "<title>Tree</title>\n",
       "<polygon fill=\"#ffffff\" stroke=\"transparent\" points=\"-4,4 -4,-154 227.7891,-154 227.7891,4 -4,4\"/>\n",
       "<!-- 0 -->\n",
       "<g id=\"node1\" class=\"node\">\n",
       "<title>0</title>\n",
       "<path fill=\"#e58139\" fill-opacity=\"0.713725\" stroke=\"#000000\" d=\"M147.4986,-150C147.4986,-150 77.6215,-150 77.6215,-150 71.6215,-150 65.6215,-144 65.6215,-138 65.6215,-138 65.6215,-98 65.6215,-98 65.6215,-92 71.6215,-86 77.6215,-86 77.6215,-86 147.4986,-86 147.4986,-86 153.4986,-86 159.4986,-92 159.4986,-98 159.4986,-98 159.4986,-138 159.4986,-138 159.4986,-144 153.4986,-150 147.4986,-150\"/>\n",
       "<text text-anchor=\"start\" x=\"80.3115\" y=\"-135.8\" font-family=\"Helvetica,sans-Serif\" font-size=\"14.00\" fill=\"#000000\">X</text>\n",
       "<text text-anchor=\"start\" x=\"89.6494\" y=\"-135.8\" font-family=\"Helvetica,sans-Serif\" baseline-shift=\"sub\" font-size=\"14.00\" fill=\"#000000\">0</text>\n",
       "<text text-anchor=\"start\" x=\"97.4355\" y=\"-135.8\" font-family=\"Helvetica,sans-Serif\" font-size=\"14.00\" fill=\"#000000\"> ≤ &#45;0.75</text>\n",
       "<text text-anchor=\"start\" x=\"73.8413\" y=\"-121.8\" font-family=\"Helvetica,sans-Serif\" font-size=\"14.00\" fill=\"#000000\">mse = 3.545</text>\n",
       "<text text-anchor=\"start\" x=\"74.624\" y=\"-107.8\" font-family=\"Helvetica,sans-Serif\" font-size=\"14.00\" fill=\"#000000\">samples = 7</text>\n",
       "<text text-anchor=\"start\" x=\"78.1172\" y=\"-93.8\" font-family=\"Helvetica,sans-Serif\" font-size=\"14.00\" fill=\"#000000\">value = 0.0</text>\n",
       "</g>\n",
       "<!-- 1 -->\n",
       "<g id=\"node2\" class=\"node\">\n",
       "<title>1</title>\n",
       "<path fill=\"transparent\" stroke=\"#000000\" d=\"M93.1802,-50C93.1802,-50 11.9399,-50 11.9399,-50 5.9399,-50 -.0601,-44 -.0601,-38 -.0601,-38 -.0601,-12 -.0601,-12 -.0601,-6 5.9399,0 11.9399,0 11.9399,0 93.1802,0 93.1802,0 99.1802,0 105.1802,-6 105.1802,-12 105.1802,-12 105.1802,-38 105.1802,-38 105.1802,-44 99.1802,-50 93.1802,-50\"/>\n",
       "<text text-anchor=\"start\" x=\"17.7344\" y=\"-34.8\" font-family=\"Helvetica,sans-Serif\" font-size=\"14.00\" fill=\"#000000\">mse = 1.41</text>\n",
       "<text text-anchor=\"start\" x=\"14.624\" y=\"-20.8\" font-family=\"Helvetica,sans-Serif\" font-size=\"14.00\" fill=\"#000000\">samples = 2</text>\n",
       "<text text-anchor=\"start\" x=\"8\" y=\"-6.8\" font-family=\"Helvetica,sans-Serif\" font-size=\"14.00\" fill=\"#000000\">value = &#45;2.188</text>\n",
       "</g>\n",
       "<!-- 0&#45;&gt;1 -->\n",
       "<g id=\"edge1\" class=\"edge\">\n",
       "<title>0&#45;&gt;1</title>\n",
       "<path fill=\"none\" stroke=\"#000000\" d=\"M91.9115,-85.9947C86.2166,-77.1676 80.0221,-67.5662 74.2691,-58.6491\"/>\n",
       "<polygon fill=\"#000000\" stroke=\"#000000\" points=\"77.0605,-56.5196 68.6981,-50.014 71.1784,-60.3145 77.0605,-56.5196\"/>\n",
       "<text text-anchor=\"middle\" x=\"63.4272\" y=\"-70.2521\" font-family=\"Helvetica,sans-Serif\" font-size=\"14.00\" fill=\"#000000\">True</text>\n",
       "</g>\n",
       "<!-- 2 -->\n",
       "<g id=\"node3\" class=\"node\">\n",
       "<title>2</title>\n",
       "<path fill=\"#e58139\" stroke=\"#000000\" d=\"M212.0191,-50C212.0191,-50 135.101,-50 135.101,-50 129.101,-50 123.101,-44 123.101,-38 123.101,-38 123.101,-12 123.101,-12 123.101,-6 129.101,0 135.101,0 135.101,0 212.0191,0 212.0191,0 218.0191,0 224.0191,-6 224.0191,-12 224.0191,-12 224.0191,-38 224.0191,-38 224.0191,-44 218.0191,-50 212.0191,-50\"/>\n",
       "<text text-anchor=\"start\" x=\"134.8413\" y=\"-34.8\" font-family=\"Helvetica,sans-Serif\" font-size=\"14.00\" fill=\"#000000\">mse = 1.719</text>\n",
       "<text text-anchor=\"start\" x=\"135.624\" y=\"-20.8\" font-family=\"Helvetica,sans-Serif\" font-size=\"14.00\" fill=\"#000000\">samples = 5</text>\n",
       "<text text-anchor=\"start\" x=\"131.3311\" y=\"-6.8\" font-family=\"Helvetica,sans-Serif\" font-size=\"14.00\" fill=\"#000000\">value = 0.875</text>\n",
       "</g>\n",
       "<!-- 0&#45;&gt;2 -->\n",
       "<g id=\"edge2\" class=\"edge\">\n",
       "<title>0&#45;&gt;2</title>\n",
       "<path fill=\"none\" stroke=\"#000000\" d=\"M133.5528,-85.9947C139.3426,-77.1676 145.6403,-67.5662 151.4892,-58.6491\"/>\n",
       "<polygon fill=\"#000000\" stroke=\"#000000\" points=\"154.595,-60.2954 157.153,-50.014 148.7417,-56.4562 154.595,-60.2954\"/>\n",
       "<text text-anchor=\"middle\" x=\"162.2392\" y=\"-70.2912\" font-family=\"Helvetica,sans-Serif\" font-size=\"14.00\" fill=\"#000000\">False</text>\n",
       "</g>\n",
       "</g>\n",
       "</svg>\n"
      ],
      "text/plain": [
       "<graphviz.files.Source at 0x1a1e421780>"
      ]
     },
     "execution_count": 307,
     "metadata": {},
     "output_type": "execute_result"
    }
   ],
   "source": [
    "tr_data = export_graphviz(tr, out_file=None, filled=True, rounded=True, special_characters=True, \n",
    "                           feature_names=None) \n",
    "tr_graph = graphviz.Source(tr_data)\n",
    "tr_graph"
   ]
  },
  {
   "cell_type": "code",
   "execution_count": 308,
   "metadata": {},
   "outputs": [
    {
     "name": "stdout",
     "output_type": "stream",
     "text": [
      "3.544642857142857\n"
     ]
    }
   ],
   "source": [
    "yy = [-3.375, -1.0, -0.125, 0.0, 0.125, 1.0, 3.375]\n",
    "#xx = [-3.375,-3.375,-3.375,-3.375,-3.375,-3.375,-3.375]\n",
    "#xx = [3.375,3.375,3.375,3.375,3.375,3.375,3.375]\n",
    "xx = [0,0,0,0,0,0,0]\n",
    "xx=np.array(xx).astype(float)\n",
    "yy=np.array(yy).astype(float)\n",
    "mse = ((xx - yy) ** 2).mean()\n",
    "print(mse)"
   ]
  },
  {
   "cell_type": "code",
   "execution_count": 309,
   "metadata": {},
   "outputs": [
    {
     "name": "stdout",
     "output_type": "stream",
     "text": [
      "[14.94, 4.54, 3.56, 3.54, 3.56, 4.54, 14.94]\n"
     ]
    }
   ],
   "source": [
    "aa=[]\n",
    "yy = [-3.375, -1.0, -0.125, 0.0, 0.125, 1.0, 3.375]\n",
    "\n",
    "for i in yy:\n",
    "    xx=np.full_like(yy,i).astype(float)\n",
    "    mse = round(((xx - yy) ** 2).mean(),2)\n",
    "    aa.append(mse)\n",
    "print(aa)"
   ]
  },
  {
   "cell_type": "code",
   "execution_count": 310,
   "metadata": {},
   "outputs": [
    {
     "data": {
      "image/png": "[encoded data removed]",
      "text/plain": [
       "<Figure size 720x576 with 1 Axes>"
      ]
     },
     "metadata": {
      "needs_background": "light"
     },
     "output_type": "display_data"
    }
   ],
   "source": [
    "# min mse, when a = 0, y = [-3.375, -1.0, -0.125, 0.0, 0.125, 1.0, 3.375]\n",
    "c=[-1.5, -1.0, -0.5, 0.0, 0.5, 1.0, 1.5]\n",
    "d=[0,0,0,0,0,0,0]\n",
    "plt.rcParams['figure.figsize'] = (10,8) \n",
    "\n",
    "plt.plot(c, d, label=\"prediction 0 depth\")\n",
    "\n",
    "plt.xlabel('x')\n",
    "plt.ylabel('prediction')\n",
    "plt.title('prediction 0 depth')\n",
    "plt.legend();"
   ]
  },
  {
   "cell_type": "code",
   "execution_count": 311,
   "metadata": {},
   "outputs": [
    {
     "data": {
      "image/png": "[encoded data removed]",
      "text/plain": [
       "<Figure size 720x576 with 1 Axes>"
      ]
     },
     "metadata": {
      "needs_background": "light"
     },
     "output_type": "display_data"
    }
   ],
   "source": [
    "# min mse, when a = 0, y = [-4.0, -3.375, -1.0, -0.125, 0.0, 0.125, 1.0, 3.375, 4.0]\n",
    "c=[-2.0, -1.5, -1.0, -0.5, 0.0, 0.5, 1.0, 1.5, 2.0]\n",
    "d=[0,0,0,0,0,0,0,0,0]\n",
    "plt.rcParams['figure.figsize'] = (10,8) \n",
    "\n",
    "plt.plot(c, d, label=\"prediction 0 depth\")\n",
    "\n",
    "plt.xlabel('x')\n",
    "plt.ylabel('prediction')\n",
    "plt.title('prediction 0 depth')\n",
    "plt.legend();"
   ]
  },
  {
   "cell_type": "code",
   "execution_count": 312,
   "metadata": {},
   "outputs": [
    {
     "name": "stdout",
     "output_type": "stream",
     "text": [
      "[6.1, 4.15, 3.85, 6.59]\n"
     ]
    }
   ],
   "source": [
    "aa=[]\n",
    "yy = [-4.0, -3.375, -1.0, -0.125]\n",
    "\n",
    "for i in yy:\n",
    "    xx=np.full_like(yy,i).astype(float)\n",
    "    mse = round(((xx - yy) ** 2).mean(),2)\n",
    "    aa.append(mse)\n",
    "print(aa)"
   ]
  },
  {
   "cell_type": "code",
   "execution_count": 313,
   "metadata": {},
   "outputs": [
    {
     "name": "stdout",
     "output_type": "stream",
     "text": [
      "[5.68, 5.27, 3.28, 5.6, 8.08]\n"
     ]
    }
   ],
   "source": [
    "aa=[]\n",
    "yy = [0.0, 0.125, 1.0, 3.375, 4.0]\n",
    "\n",
    "for i in yy:\n",
    "    xx=np.full_like(yy,i).astype(float)\n",
    "    mse = round(((xx - yy) ** 2).mean(),2)\n",
    "    aa.append(mse)\n",
    "print(aa)"
   ]
  },
  {
   "cell_type": "code",
   "execution_count": 314,
   "metadata": {},
   "outputs": [
    {
     "data": {
      "image/png": "[encoded data removed]",
      "text/plain": [
       "<Figure size 720x576 with 1 Axes>"
      ]
     },
     "metadata": {
      "needs_background": "light"
     },
     "output_type": "display_data"
    }
   ],
   "source": [
    "# Let's split the data according to the following condition [x<0]. It gives us the tree of depth 1 with two leaves. \n",
    "#Let's create a similar plot for predictions of this tree.\n",
    "\n",
    "# min mse, when a = 0, y = [-4.0, -3.375, -1.0, -0.125, 0.0, 0.125, 1.0, 3.375, 4.0]\n",
    "c=[-2.0, -1.5, -1.0, -0.5]\n",
    "d=[-1,-1,-1,-1]\n",
    "\n",
    "e=[0.0, 0.5, 1.0, 1.5, 2.0]\n",
    "f=[1,1,1,1,1]\n",
    "plt.rcParams['figure.figsize'] = (10,8) \n",
    "\n",
    "plt.plot(c, d, label=\"left leaf\")\n",
    "plt.plot(e, f, label=\"right leaf\")\n",
    "\n",
    "plt.xlabel('x')\n",
    "plt.ylabel('prediction')\n",
    "plt.title('prediction 1 depth')\n",
    "plt.legend();"
   ]
  },
  {
   "cell_type": "code",
   "execution_count": 315,
   "metadata": {},
   "outputs": [],
   "source": [
    "#Q(X,j,t)=D(X)−|Xl||X|D(Xl)−|Xr||X|D(Xr),\n",
    "\n",
    "#def regression_var_criterion(X, y, t):\n",
    "#    for i in X:\n",
    "#        for j in y:\n",
    "#            D= 1/abs(i) * (j-1/abs(i)* i ** 3)**2\n",
    "#            Dleft= 1/abs(i) * (j-1/abs(i)* i ** 3)**2\n",
    "#            Dright= 1/abs(i) * (j-1/abs(i)* i ** 3)**2\n",
    "#    regression_var_criterion=D-(abs(t)/abs(len(X)))*Dleft-(abs(len(X)-t)/abs(len(X)))*Dright\n",
    "#    return regression_var_criterion "
   ]
  },
  {
   "cell_type": "code",
   "execution_count": 351,
   "metadata": {},
   "outputs": [],
   "source": [
    "def regression_var_criterion(X, y, t): \n",
    "    X_left, y_left = X[X < t], y[X < t] \n",
    "    X_right, y_right = X[X >= t], y[X >= t] \n",
    "    return np.var(y) - X_left.shape[0] / X.shape[0] * np.var(y_left) - X_right.shape[0] / X.shape[0] * np.var(y_right)"
   ]
  },
  {
   "cell_type": "code",
   "execution_count": 369,
   "metadata": {},
   "outputs": [
    {
     "data": {
      "text/plain": [
       "6.969760148148145"
      ]
     },
     "execution_count": 369,
     "metadata": {},
     "output_type": "execute_result"
    }
   ],
   "source": [
    "#Create the plot of the function Q(X,t) in the root depending on the threshold value t on the interval [−1.9,1.9].\n",
    "X=np.linspace(-1.9, 1.9, 7)\n",
    "y=[i**3 for i in X]\n",
    "y=np.array(y)\n",
    "regression_var_criterion(X,y,t=0.5)"
   ]
  },
  {
   "cell_type": "code",
   "execution_count": 370,
   "metadata": {},
   "outputs": [
    {
     "name": "stdout",
     "output_type": "stream",
     "text": [
      "[       nan 7.84098017 7.84098017 7.84098017 7.84098017 7.84098017\n",
      " 7.84098017 7.84098017 7.84098017 7.90551498 7.90551498 7.90551498\n",
      " 7.90551498 7.90551498 7.90551498 7.90551498 7.90551498 6.96976015\n",
      " 6.96976015 6.96976015 6.96976015 6.96976015 6.96976015 6.96976015\n",
      " 6.96976015 6.96976015 6.96976015 6.96976015 6.96976015 6.96976015\n",
      " 6.96976015 6.96976015 6.96976015 7.90551498 7.90551498 7.90551498\n",
      " 7.90551498 7.90551498 7.90551498 7.90551498 7.90551498 7.84098017\n",
      " 7.84098017 7.84098017 7.84098017 7.84098017 7.84098017 7.84098017\n",
      " 7.84098017 7.84098017]\n"
     ]
    },
    {
     "name": "stderr",
     "output_type": "stream",
     "text": [
      "/Users/klavdius/anaconda3/lib/python3.7/site-packages/numpy/core/fromnumeric.py:3157: RuntimeWarning: Degrees of freedom <= 0 for slice\n",
      "  **kwargs)\n",
      "/Users/klavdius/anaconda3/lib/python3.7/site-packages/numpy/core/_methods.py:110: RuntimeWarning: invalid value encountered in true_divide\n",
      "  arrmean, rcount, out=arrmean, casting='unsafe', subok=False)\n",
      "/Users/klavdius/anaconda3/lib/python3.7/site-packages/numpy/core/_methods.py:132: RuntimeWarning: invalid value encountered in double_scalars\n",
      "  ret = ret.dtype.type(ret / rcount)\n"
     ]
    }
   ],
   "source": [
    "thresholds=np.linspace(-1.9, 1.9, 50)\n",
    "var=[]\n",
    "for i in thresholds:\n",
    "    var.append(regression_var_criterion(X,y,t=i))\n",
    "var=np.array(var)\n",
    "print(var)"
   ]
  },
  {
   "cell_type": "code",
   "execution_count": 371,
   "metadata": {},
   "outputs": [
    {
     "data": {
      "image/png": "[encoded data removed]",
      "text/plain": [
       "<Figure size 432x288 with 1 Axes>"
      ]
     },
     "metadata": {
      "needs_background": "light"
     },
     "output_type": "display_data"
    }
   ],
   "source": [
    "plt.rcParams['figure.figsize'] = (6,4) \n",
    "\n",
    "plt.plot(thresholds, var, label=\"var\")\n",
    "\n",
    "plt.xlabel('thresholds')\n",
    "plt.ylabel('var')\n",
    "plt.title('thresholds & var')\n",
    "plt.legend();"
   ]
  },
  {
   "cell_type": "markdown",
   "metadata": {},
   "source": [
    "# Question 1. Is the threshold value t=0 optimal according to the variance criterion?\n",
    "\n",
    "Yes\n",
    "No"
   ]
  },
  {
   "cell_type": "code",
   "execution_count": null,
   "metadata": {},
   "outputs": [],
   "source": [
    "# 1 ANSWER - YES???"
   ]
  },
  {
   "cell_type": "code",
   "execution_count": 343,
   "metadata": {},
   "outputs": [],
   "source": [
    "# Then let's make splitting in each of the leaves' nodes. In the left branch (where previous split was x<0) using \n",
    "#the criterion [x<−1.5], in the right branch (where previous split was x⩾0) with the following criterion [x<1.5]. \n",
    "#It gives us the tree of depth 2 with 7 nodes and 4 leaves. \n",
    "#Create the plot of these tree predictions for x∈[−2,2]."
   ]
  },
  {
   "cell_type": "markdown",
   "metadata": {},
   "source": [
    "# Question 2. How many segments are there on the plot of tree predictions in the interval [-2, 2] (it is necessary to count only horizontal and lines)?\n",
    "\n",
    "2\n",
    "3\n",
    "4\n",
    "5"
   ]
  },
  {
   "cell_type": "code",
   "execution_count": 232,
   "metadata": {},
   "outputs": [],
   "source": [
    "# ANSWER - 3"
   ]
  },
  {
   "cell_type": "code",
   "execution_count": 358,
   "metadata": {},
   "outputs": [
    {
     "name": "stdout",
     "output_type": "stream",
     "text": [
      "[5.4, 2.14, 3.78]\n"
     ]
    }
   ],
   "source": [
    "#yy = [-4.0, -3.375, -1.0, -0.125]\n",
    "\n",
    "aa=[]\n",
    "yy = [-3.375, -1.0, -0.125]\n",
    "\n",
    "for i in yy:\n",
    "    xx=np.full_like(yy,i).astype(float)\n",
    "    mse = round(((xx - yy) ** 2).mean(),2)\n",
    "    aa.append(mse)\n",
    "print(aa)"
   ]
  },
  {
   "cell_type": "code",
   "execution_count": 359,
   "metadata": {},
   "outputs": [
    {
     "name": "stdout",
     "output_type": "stream",
     "text": [
      "[0.34, 0.26, 0.59]\n"
     ]
    }
   ],
   "source": [
    "#yy = [0.0, 0.125, 1.0, 3.375, 4.0]\n",
    "aa=[]\n",
    "yy = [0.0, 0.125, 1.0]\n",
    "\n",
    "for i in yy:\n",
    "    xx=np.full_like(yy,i).astype(float)\n",
    "    mse = round(((xx - yy) ** 2).mean(),2)\n",
    "    aa.append(mse)\n",
    "print(aa)"
   ]
  },
  {
   "cell_type": "code",
   "execution_count": 360,
   "metadata": {},
   "outputs": [
    {
     "name": "stdout",
     "output_type": "stream",
     "text": [
      "[0.2, 0.2]\n"
     ]
    }
   ],
   "source": [
    "#yy = [0.0, 0.125, 1.0, 3.375, 4.0]\n",
    "aa=[]\n",
    "yy = [3.375, 4.0]\n",
    "\n",
    "for i in yy:\n",
    "    xx=np.full_like(yy,i).astype(float)\n",
    "    mse = round(((xx - yy) ** 2).mean(),2)\n",
    "    aa.append(mse)\n",
    "print(aa)"
   ]
  },
  {
   "cell_type": "code",
   "execution_count": 362,
   "metadata": {},
   "outputs": [
    {
     "data": {
      "image/png": "[encoded data removed]",
      "text/plain": [
       "<Figure size 432x288 with 1 Axes>"
      ]
     },
     "metadata": {
      "needs_background": "light"
     },
     "output_type": "display_data"
    }
   ],
   "source": [
    "# min mse, when a = 0, y = [-4.0, -3.375, -1.0, -0.125, 0.0, 0.125, 1.0, 3.375, 4.0]\n",
    "first=np.linspace(-2.0, 2.0, 9)\n",
    "second=[-4.0, -1.0,-1.0,-1.0,1.0,1.0,1.0,1.5,1.5]\n",
    "second=np.array(second)\n",
    "\n",
    "plt.rcParams['figure.figsize'] = (6,4) \n",
    "plt.plot(first, second, label=\"prediction 2 depth\")\n",
    "plt.xlabel('x')\n",
    "plt.ylabel('prediction')\n",
    "plt.title('prediction 2 depth')\n",
    "plt.legend();"
   ]
  },
  {
   "cell_type": "markdown",
   "metadata": {},
   "source": [
    "# 2. Building a decision tree for predicting heart deseases"
   ]
  },
  {
   "cell_type": "code",
   "execution_count": 233,
   "metadata": {},
   "outputs": [
    {
     "name": "stdout",
     "output_type": "stream",
     "text": [
      "<class 'pandas.core.frame.DataFrame'>\n",
      "Int64Index: 70000 entries, 0 to 99999\n",
      "Data columns (total 12 columns):\n",
      "age            70000 non-null int64\n",
      "gender         70000 non-null int64\n",
      "height         70000 non-null int64\n",
      "weight         70000 non-null float64\n",
      "ap_hi          70000 non-null int64\n",
      "ap_lo          70000 non-null int64\n",
      "cholesterol    70000 non-null int64\n",
      "gluc           70000 non-null int64\n",
      "smoke          70000 non-null int64\n",
      "alco           70000 non-null int64\n",
      "active         70000 non-null int64\n",
      "cardio         70000 non-null int64\n",
      "dtypes: float64(1), int64(11)\n",
      "memory usage: 6.9 MB\n"
     ]
    }
   ],
   "source": [
    "df = pd.read_csv(\"https://raw.githubusercontent.com/Yorko/mlcourse.ai/master/data/mlbootcamp5_train.csv\", index_col='id', sep=';')\n",
    "df.head()\n",
    "df.info()"
   ]
  },
  {
   "cell_type": "code",
   "execution_count": 234,
   "metadata": {},
   "outputs": [
    {
     "name": "stdout",
     "output_type": "stream",
     "text": [
      "id\n",
      "0    50.0\n",
      "1    55.0\n",
      "2    52.0\n",
      "3    48.0\n",
      "4    48.0\n",
      "Name: age_in_years, dtype: float64\n"
     ]
    }
   ],
   "source": [
    "#Transform the features: create \"age in years\" (full age) and also create 3 binary features based on cholesterol \n",
    "# and 3 more on gluc, where they are equal to 1, 2 or 3. \n",
    "#This method is called dummy-encoding or One Hot Encoding (OHE). It is more convenient to use pandas.get_dummmies.. \n",
    "#There is no need to use the original features cholesterol and gluc after encoding.\n",
    "df[\"age\"] = df[\"age\"].astype(\"float\")\n",
    "df[\"age_in_years\"]=df[\"age\"].div(365,25).round()\n",
    "print(df[\"age_in_years\"].head())"
   ]
  },
  {
   "cell_type": "code",
   "execution_count": 235,
   "metadata": {},
   "outputs": [
    {
     "name": "stdout",
     "output_type": "stream",
     "text": [
      "        age  gender  height  weight  ap_hi  ap_lo  smoke  alco  active  \\\n",
      "id                                                                       \n",
      "0   18393.0       2     168    62.0    110     80      0     0       1   \n",
      "1   20228.0       1     156    85.0    140     90      0     0       1   \n",
      "2   18857.0       1     165    64.0    130     70      0     0       0   \n",
      "3   17623.0       2     169    82.0    150    100      0     0       1   \n",
      "4   17474.0       1     156    56.0    100     60      0     0       0   \n",
      "\n",
      "    cardio  age_in_years  chol_1  chol_2  chol_3  glu_1  glu_2  glu_3  \n",
      "id                                                                     \n",
      "0        0          50.0       1       0       0      1      0      0  \n",
      "1        1          55.0       0       0       1      1      0      0  \n",
      "2        1          52.0       0       0       1      1      0      0  \n",
      "3        1          48.0       1       0       0      1      0      0  \n",
      "4        0          48.0       1       0       0      1      0      0  \n"
     ]
    }
   ],
   "source": [
    "df=pd.concat([df, pd.get_dummies(df[\"cholesterol\"], prefix=\"chol\")], axis=1)\n",
    "df=pd.concat([df, pd.get_dummies(df[\"gluc\"], prefix=\"glu\")], axis=1)\n",
    "df=df.drop(columns=[\"cholesterol\",\"gluc\"])\n",
    "print(df.head())"
   ]
  },
  {
   "cell_type": "code",
   "execution_count": 236,
   "metadata": {},
   "outputs": [
    {
     "name": "stderr",
     "output_type": "stream",
     "text": [
      "/Users/klavdius/anaconda3/lib/python3.7/site-packages/sklearn/model_selection/_split.py:2026: FutureWarning: From version 0.21, test_size will always complement train_size unless both are specified.\n",
      "  FutureWarning)\n"
     ]
    }
   ],
   "source": [
    "# Split data into train and holdout parts in the proportion of 7/3 using sklearn.model_selection.train_test_split \n",
    "#with random_state=17.\n",
    "X = df.drop(columns=[\"cardio\"])\n",
    "y = df[\"cardio\"]\n",
    "\n",
    "X_train, X_valid, y_train, y_valid = train_test_split (X, y, train_size=0.7, random_state=17)"
   ]
  },
  {
   "cell_type": "code",
   "execution_count": 237,
   "metadata": {},
   "outputs": [
    {
     "data": {
      "text/plain": [
       "DecisionTreeClassifier(class_weight=None, criterion='gini', max_depth=3,\n",
       "            max_features=None, max_leaf_nodes=None,\n",
       "            min_impurity_decrease=0.0, min_impurity_split=None,\n",
       "            min_samples_leaf=1, min_samples_split=2,\n",
       "            min_weight_fraction_leaf=0.0, presort=False, random_state=17,\n",
       "            splitter='best')"
      ]
     },
     "execution_count": 237,
     "metadata": {},
     "output_type": "execute_result"
    }
   ],
   "source": [
    "#Train the decision tree on the dataset (X_train, y_train) with max depth equals to 3 and random_state=17. \n",
    "#Plot this tree with sklearn.tree.export_graphviz, dot and pydot. You don't need to use quotes in the file \n",
    "#names in order to make it work in a jupyter notebook. \n",
    "#The commands starting from the exclamation mark are terminal commands that are usually run in terminal/command line.\n",
    "\n",
    "tree=DecisionTreeClassifier(max_depth=3, random_state=17)\n",
    "tree.fit(X_train, y_train, )"
   ]
  },
  {
   "cell_type": "code",
   "execution_count": 238,
   "metadata": {},
   "outputs": [
    {
     "name": "stdout",
     "output_type": "stream",
     "text": [
      "Error: Insufficient privileges to write to MacPorts install prefix.\n",
      "Requirement already satisfied: pydot in /Users/klavdius/anaconda3/lib/python3.7/site-packages (1.2.4)\n",
      "Requirement already satisfied: pyparsing>=2.1.4 in /Users/klavdius/anaconda3/lib/python3.7/site-packages (from pydot) (2.2.0)\n"
     ]
    }
   ],
   "source": [
    "!port install graphviz\n",
    "!pip install pydot"
   ]
  },
  {
   "cell_type": "code",
   "execution_count": 239,
   "metadata": {},
   "outputs": [],
   "source": [
    "import graphviz\n",
    "from sklearn.tree import export_graphviz"
   ]
  },
  {
   "cell_type": "code",
   "execution_count": 240,
   "metadata": {},
   "outputs": [
    {
     "data": {
      "image/svg+xml": [
       "<?xml version=\"1.0\" encoding=\"UTF-8\" standalone=\"no\"?>\n",
       "<!DOCTYPE svg PUBLIC \"-//W3C//DTD SVG 1.1//EN\"\n",
       " \"http://www.w3.org/Graphics/SVG/1.1/DTD/svg11.dtd\">\n",
       "<!-- Generated by graphviz version 2.40.1 (20161225.0304)\n",
       " -->\n",
       "<!-- Title: Tree Pages: 1 -->\n",
       "<svg width=\"1238pt\" height=\"358pt\"\n",
       " viewBox=\"0.00 0.00 1238.27 358.00\" xmlns=\"http://www.w3.org/2000/svg\" xmlns:xlink=\"http://www.w3.org/1999/xlink\">\n",
       "<g id=\"graph0\" class=\"graph\" transform=\"scale(1 1) rotate(0) translate(4 354)\">\n",
       "<title>Tree</title>\n",
       "<polygon fill=\"#ffffff\" stroke=\"transparent\" points=\"-4,4 -4,-354 1234.2715,-354 1234.2715,4 -4,4\"/>\n",
       "<!-- 0 -->\n",
       "<g id=\"node1\" class=\"node\">\n",
       "<title>0</title>\n",
       "<path fill=\"#e58139\" fill-opacity=\"0.003922\" stroke=\"#000000\" d=\"M673.8726,-350C673.8726,-350 539.185,-350 539.185,-350 533.185,-350 527.185,-344 527.185,-338 527.185,-338 527.185,-298 527.185,-298 527.185,-292 533.185,-286 539.185,-286 539.185,-286 673.8726,-286 673.8726,-286 679.8726,-286 685.8726,-292 685.8726,-298 685.8726,-298 685.8726,-338 685.8726,-338 685.8726,-344 679.8726,-350 673.8726,-350\"/>\n",
       "<text text-anchor=\"start\" x=\"564.1528\" y=\"-334.8\" font-family=\"Helvetica,sans-Serif\" font-size=\"14.00\" fill=\"#000000\">ap_hi ≤ 129.5</text>\n",
       "<text text-anchor=\"start\" x=\"577.9238\" y=\"-320.8\" font-family=\"Helvetica,sans-Serif\" font-size=\"14.00\" fill=\"#000000\">gini = 0.5</text>\n",
       "<text text-anchor=\"start\" x=\"553.0205\" y=\"-306.8\" font-family=\"Helvetica,sans-Serif\" font-size=\"14.00\" fill=\"#000000\">samples = 49000</text>\n",
       "<text text-anchor=\"start\" x=\"535.1069\" y=\"-292.8\" font-family=\"Helvetica,sans-Serif\" font-size=\"14.00\" fill=\"#000000\">value = [24531, 24469]</text>\n",
       "</g>\n",
       "<!-- 1 -->\n",
       "<g id=\"node2\" class=\"node\">\n",
       "<title>1</title>\n",
       "<path fill=\"#e58139\" fill-opacity=\"0.537255\" stroke=\"#000000\" d=\"M523.0864,-250C523.0864,-250 395.9712,-250 395.9712,-250 389.9712,-250 383.9712,-244 383.9712,-238 383.9712,-238 383.9712,-198 383.9712,-198 383.9712,-192 389.9712,-186 395.9712,-186 395.9712,-186 523.0864,-186 523.0864,-186 529.0864,-186 535.0864,-192 535.0864,-198 535.0864,-198 535.0864,-238 535.0864,-238 535.0864,-244 529.0864,-250 523.0864,-250\"/>\n",
       "<text text-anchor=\"start\" x=\"414.8149\" y=\"-234.8\" font-family=\"Helvetica,sans-Serif\" font-size=\"14.00\" fill=\"#000000\">age ≤ 19931.5</text>\n",
       "<text text-anchor=\"start\" x=\"423.1377\" y=\"-220.8\" font-family=\"Helvetica,sans-Serif\" font-size=\"14.00\" fill=\"#000000\">gini = 0.433</text>\n",
       "<text text-anchor=\"start\" x=\"406.0205\" y=\"-206.8\" font-family=\"Helvetica,sans-Serif\" font-size=\"14.00\" fill=\"#000000\">samples = 28925</text>\n",
       "<text text-anchor=\"start\" x=\"392\" y=\"-192.8\" font-family=\"Helvetica,sans-Serif\" font-size=\"14.00\" fill=\"#000000\">value = [19758, 9167]</text>\n",
       "</g>\n",
       "<!-- 0&#45;&gt;1 -->\n",
       "<g id=\"edge1\" class=\"edge\">\n",
       "<title>0&#45;&gt;1</title>\n",
       "<path fill=\"none\" stroke=\"#000000\" d=\"M559.2079,-285.8089C545.1757,-276.2632 529.6791,-265.7213 515.1706,-255.8516\"/>\n",
       "<polygon fill=\"#000000\" stroke=\"#000000\" points=\"516.9979,-252.8616 506.761,-250.1308 513.0606,-258.6493 516.9979,-252.8616\"/>\n",
       "<text text-anchor=\"middle\" x=\"511.4343\" y=\"-270.4901\" font-family=\"Helvetica,sans-Serif\" font-size=\"14.00\" fill=\"#000000\">True</text>\n",
       "</g>\n",
       "<!-- 8 -->\n",
       "<g id=\"node9\" class=\"node\">\n",
       "<title>8</title>\n",
       "<path fill=\"#399de5\" fill-opacity=\"0.686275\" stroke=\"#000000\" d=\"M829.0864,-250C829.0864,-250 701.9712,-250 701.9712,-250 695.9712,-250 689.9712,-244 689.9712,-238 689.9712,-238 689.9712,-198 689.9712,-198 689.9712,-192 695.9712,-186 701.9712,-186 701.9712,-186 829.0864,-186 829.0864,-186 835.0864,-186 841.0864,-192 841.0864,-198 841.0864,-198 841.0864,-238 841.0864,-238 841.0864,-244 835.0864,-250 829.0864,-250\"/>\n",
       "<text text-anchor=\"start\" x=\"723.1528\" y=\"-234.8\" font-family=\"Helvetica,sans-Serif\" font-size=\"14.00\" fill=\"#000000\">ap_hi ≤ 138.5</text>\n",
       "<text text-anchor=\"start\" x=\"729.1377\" y=\"-220.8\" font-family=\"Helvetica,sans-Serif\" font-size=\"14.00\" fill=\"#000000\">gini = 0.362</text>\n",
       "<text text-anchor=\"start\" x=\"712.0205\" y=\"-206.8\" font-family=\"Helvetica,sans-Serif\" font-size=\"14.00\" fill=\"#000000\">samples = 20075</text>\n",
       "<text text-anchor=\"start\" x=\"698\" y=\"-192.8\" font-family=\"Helvetica,sans-Serif\" font-size=\"14.00\" fill=\"#000000\">value = [4773, 15302]</text>\n",
       "</g>\n",
       "<!-- 0&#45;&gt;8 -->\n",
       "<g id=\"edge8\" class=\"edge\">\n",
       "<title>0&#45;&gt;8</title>\n",
       "<path fill=\"none\" stroke=\"#000000\" d=\"M657.7126,-285.8089C673.0322,-276.174 689.9654,-265.5241 705.7845,-255.575\"/>\n",
       "<polygon fill=\"#000000\" stroke=\"#000000\" points=\"707.8393,-258.4175 714.4409,-250.1308 704.1125,-252.4919 707.8393,-258.4175\"/>\n",
       "<text text-anchor=\"middle\" x=\"708.8882\" y=\"-270.3063\" font-family=\"Helvetica,sans-Serif\" font-size=\"14.00\" fill=\"#000000\">False</text>\n",
       "</g>\n",
       "<!-- 2 -->\n",
       "<g id=\"node3\" class=\"node\">\n",
       "<title>2</title>\n",
       "<path fill=\"#e58139\" fill-opacity=\"0.694118\" stroke=\"#000000\" d=\"M296.0864,-150C296.0864,-150 168.9712,-150 168.9712,-150 162.9712,-150 156.9712,-144 156.9712,-138 156.9712,-138 156.9712,-98 156.9712,-98 156.9712,-92 162.9712,-86 168.9712,-86 168.9712,-86 296.0864,-86 296.0864,-86 302.0864,-86 308.0864,-92 308.0864,-98 308.0864,-98 308.0864,-138 308.0864,-138 308.0864,-144 302.0864,-150 296.0864,-150\"/>\n",
       "<text text-anchor=\"start\" x=\"194.439\" y=\"-134.8\" font-family=\"Helvetica,sans-Serif\" font-size=\"14.00\" fill=\"#000000\">chol_3 ≤ 0.5</text>\n",
       "<text text-anchor=\"start\" x=\"196.1377\" y=\"-120.8\" font-family=\"Helvetica,sans-Serif\" font-size=\"14.00\" fill=\"#000000\">gini = 0.359</text>\n",
       "<text text-anchor=\"start\" x=\"179.0205\" y=\"-106.8\" font-family=\"Helvetica,sans-Serif\" font-size=\"14.00\" fill=\"#000000\">samples = 17715</text>\n",
       "<text text-anchor=\"start\" x=\"165\" y=\"-92.8\" font-family=\"Helvetica,sans-Serif\" font-size=\"14.00\" fill=\"#000000\">value = [13555, 4160]</text>\n",
       "</g>\n",
       "<!-- 1&#45;&gt;2 -->\n",
       "<g id=\"edge2\" class=\"edge\">\n",
       "<title>1&#45;&gt;2</title>\n",
       "<path fill=\"none\" stroke=\"#000000\" d=\"M386.7679,-185.9467C363.7567,-175.8096 338.1695,-164.5377 314.5558,-154.1352\"/>\n",
       "<polygon fill=\"#000000\" stroke=\"#000000\" points=\"315.8295,-150.8718 305.2671,-150.0433 313.0074,-157.2778 315.8295,-150.8718\"/>\n",
       "</g>\n",
       "<!-- 5 -->\n",
       "<g id=\"node6\" class=\"node\">\n",
       "<title>5</title>\n",
       "<path fill=\"#e58139\" fill-opacity=\"0.192157\" stroke=\"#000000\" d=\"M519.3006,-150C519.3006,-150 399.7571,-150 399.7571,-150 393.7571,-150 387.7571,-144 387.7571,-138 387.7571,-138 387.7571,-98 387.7571,-98 387.7571,-92 393.7571,-86 399.7571,-86 399.7571,-86 519.3006,-86 519.3006,-86 525.3006,-86 531.3006,-92 531.3006,-98 531.3006,-98 531.3006,-138 531.3006,-138 531.3006,-144 525.3006,-150 519.3006,-150\"/>\n",
       "<text text-anchor=\"start\" x=\"421.439\" y=\"-134.8\" font-family=\"Helvetica,sans-Serif\" font-size=\"14.00\" fill=\"#000000\">chol_3 ≤ 0.5</text>\n",
       "<text text-anchor=\"start\" x=\"423.1377\" y=\"-120.8\" font-family=\"Helvetica,sans-Serif\" font-size=\"14.00\" fill=\"#000000\">gini = 0.494</text>\n",
       "<text text-anchor=\"start\" x=\"406.5366\" y=\"-106.8\" font-family=\"Helvetica,sans-Serif\" font-size=\"14.00\" fill=\"#000000\">samples = 11210</text>\n",
       "<text text-anchor=\"start\" x=\"395.8931\" y=\"-92.8\" font-family=\"Helvetica,sans-Serif\" font-size=\"14.00\" fill=\"#000000\">value = [6203, 5007]</text>\n",
       "</g>\n",
       "<!-- 1&#45;&gt;5 -->\n",
       "<g id=\"edge5\" class=\"edge\">\n",
       "<title>1&#45;&gt;5</title>\n",
       "<path fill=\"none\" stroke=\"#000000\" d=\"M459.5288,-185.8089C459.5288,-177.6906 459.5288,-168.8517 459.5288,-160.3186\"/>\n",
       "<polygon fill=\"#000000\" stroke=\"#000000\" points=\"463.0289,-160.1307 459.5288,-150.1308 456.0289,-160.1308 463.0289,-160.1307\"/>\n",
       "</g>\n",
       "<!-- 3 -->\n",
       "<g id=\"node4\" class=\"node\">\n",
       "<title>3</title>\n",
       "<path fill=\"#e58139\" fill-opacity=\"0.717647\" stroke=\"#000000\" d=\"M139.0864,-50C139.0864,-50 11.9712,-50 11.9712,-50 5.9712,-50 -.0288,-44 -.0288,-38 -.0288,-38 -.0288,-12 -.0288,-12 -.0288,-6 5.9712,0 11.9712,0 11.9712,0 139.0864,0 139.0864,0 145.0864,0 151.0864,-6 151.0864,-12 151.0864,-12 151.0864,-38 151.0864,-38 151.0864,-44 145.0864,-50 139.0864,-50\"/>\n",
       "<text text-anchor=\"start\" x=\"39.1377\" y=\"-34.8\" font-family=\"Helvetica,sans-Serif\" font-size=\"14.00\" fill=\"#000000\">gini = 0.343</text>\n",
       "<text text-anchor=\"start\" x=\"22.0205\" y=\"-20.8\" font-family=\"Helvetica,sans-Serif\" font-size=\"14.00\" fill=\"#000000\">samples = 16968</text>\n",
       "<text text-anchor=\"start\" x=\"8\" y=\"-6.8\" font-family=\"Helvetica,sans-Serif\" font-size=\"14.00\" fill=\"#000000\">value = [13235, 3733]</text>\n",
       "</g>\n",
       "<!-- 2&#45;&gt;3 -->\n",
       "<g id=\"edge3\" class=\"edge\">\n",
       "<title>2&#45;&gt;3</title>\n",
       "<path fill=\"none\" stroke=\"#000000\" d=\"M178.4983,-85.9947C161.734,-76.0642 143.3153,-65.1538 126.7481,-55.3401\"/>\n",
       "<polygon fill=\"#000000\" stroke=\"#000000\" points=\"128.1444,-52.0993 117.7568,-50.014 124.5768,-58.1219 128.1444,-52.0993\"/>\n",
       "</g>\n",
       "<!-- 4 -->\n",
       "<g id=\"node5\" class=\"node\">\n",
       "<title>4</title>\n",
       "<path fill=\"#399de5\" fill-opacity=\"0.250980\" stroke=\"#000000\" d=\"M284.2284,-50C284.2284,-50 180.8292,-50 180.8292,-50 174.8292,-50 168.8292,-44 168.8292,-38 168.8292,-38 168.8292,-12 168.8292,-12 168.8292,-6 174.8292,0 180.8292,0 180.8292,0 284.2284,0 284.2284,0 290.2284,0 296.2284,-6 296.2284,-12 296.2284,-12 296.2284,-38 296.2284,-38 296.2284,-44 290.2284,-50 284.2284,-50\"/>\n",
       "<text text-anchor=\"start\" x=\"200.0308\" y=\"-34.8\" font-family=\"Helvetica,sans-Serif\" font-size=\"14.00\" fill=\"#000000\">gini = 0.49</text>\n",
       "<text text-anchor=\"start\" x=\"186.8066\" y=\"-20.8\" font-family=\"Helvetica,sans-Serif\" font-size=\"14.00\" fill=\"#000000\">samples = 747</text>\n",
       "<text text-anchor=\"start\" x=\"176.6792\" y=\"-6.8\" font-family=\"Helvetica,sans-Serif\" font-size=\"14.00\" fill=\"#000000\">value = [320, 427]</text>\n",
       "</g>\n",
       "<!-- 2&#45;&gt;4 -->\n",
       "<g id=\"edge4\" class=\"edge\">\n",
       "<title>2&#45;&gt;4</title>\n",
       "<path fill=\"none\" stroke=\"#000000\" d=\"M232.5288,-85.9947C232.5288,-77.6273 232.5288,-68.5643 232.5288,-60.0478\"/>\n",
       "<polygon fill=\"#000000\" stroke=\"#000000\" points=\"236.0289,-60.014 232.5288,-50.014 229.0289,-60.0141 236.0289,-60.014\"/>\n",
       "</g>\n",
       "<!-- 6 -->\n",
       "<g id=\"node7\" class=\"node\">\n",
       "<title>6</title>\n",
       "<path fill=\"#e58139\" fill-opacity=\"0.286275\" stroke=\"#000000\" d=\"M445.3006,-50C445.3006,-50 325.7571,-50 325.7571,-50 319.7571,-50 313.7571,-44 313.7571,-38 313.7571,-38 313.7571,-12 313.7571,-12 313.7571,-6 319.7571,0 325.7571,0 325.7571,0 445.3006,0 445.3006,0 451.3006,0 457.3006,-6 457.3006,-12 457.3006,-12 457.3006,-38 457.3006,-38 457.3006,-44 451.3006,-50 445.3006,-50\"/>\n",
       "<text text-anchor=\"start\" x=\"349.1377\" y=\"-34.8\" font-family=\"Helvetica,sans-Serif\" font-size=\"14.00\" fill=\"#000000\">gini = 0.486</text>\n",
       "<text text-anchor=\"start\" x=\"332.0205\" y=\"-20.8\" font-family=\"Helvetica,sans-Serif\" font-size=\"14.00\" fill=\"#000000\">samples = 10043</text>\n",
       "<text text-anchor=\"start\" x=\"321.8931\" y=\"-6.8\" font-family=\"Helvetica,sans-Serif\" font-size=\"14.00\" fill=\"#000000\">value = [5865, 4178]</text>\n",
       "</g>\n",
       "<!-- 5&#45;&gt;6 -->\n",
       "<g id=\"edge6\" class=\"edge\">\n",
       "<title>5&#45;&gt;6</title>\n",
       "<path fill=\"none\" stroke=\"#000000\" d=\"M434.0622,-85.9947C426.8922,-76.9837 419.0801,-67.1658 411.8606,-58.0927\"/>\n",
       "<polygon fill=\"#000000\" stroke=\"#000000\" points=\"414.3977,-55.6599 405.4324,-50.014 408.9201,-60.0184 414.3977,-55.6599\"/>\n",
       "</g>\n",
       "<!-- 7 -->\n",
       "<g id=\"node8\" class=\"node\">\n",
       "<title>7</title>\n",
       "<path fill=\"#399de5\" fill-opacity=\"0.592157\" stroke=\"#000000\" d=\"M590.2284,-50C590.2284,-50 486.8292,-50 486.8292,-50 480.8292,-50 474.8292,-44 474.8292,-38 474.8292,-38 474.8292,-12 474.8292,-12 474.8292,-6 480.8292,0 486.8292,0 486.8292,0 590.2284,0 590.2284,0 596.2284,0 602.2284,-6 602.2284,-12 602.2284,-12 602.2284,-38 602.2284,-38 602.2284,-44 596.2284,-50 590.2284,-50\"/>\n",
       "<text text-anchor=\"start\" x=\"502.6538\" y=\"-34.8\" font-family=\"Helvetica,sans-Serif\" font-size=\"14.00\" fill=\"#000000\">gini = 0.411</text>\n",
       "<text text-anchor=\"start\" x=\"489.4297\" y=\"-20.8\" font-family=\"Helvetica,sans-Serif\" font-size=\"14.00\" fill=\"#000000\">samples = 1167</text>\n",
       "<text text-anchor=\"start\" x=\"482.6792\" y=\"-6.8\" font-family=\"Helvetica,sans-Serif\" font-size=\"14.00\" fill=\"#000000\">value = [338, 829]</text>\n",
       "</g>\n",
       "<!-- 5&#45;&gt;7 -->\n",
       "<g id=\"edge7\" class=\"edge\">\n",
       "<title>5&#45;&gt;7</title>\n",
       "<path fill=\"none\" stroke=\"#000000\" d=\"M486.7161,-85.9947C494.4487,-76.8917 502.8808,-66.9654 510.6536,-57.8152\"/>\n",
       "<polygon fill=\"#000000\" stroke=\"#000000\" points=\"513.4737,-59.9014 517.2803,-50.014 508.1387,-55.3695 513.4737,-59.9014\"/>\n",
       "</g>\n",
       "<!-- 9 -->\n",
       "<g id=\"node10\" class=\"node\">\n",
       "<title>9</title>\n",
       "<path fill=\"#399de5\" fill-opacity=\"0.345098\" stroke=\"#000000\" d=\"M825.3006,-150C825.3006,-150 705.7571,-150 705.7571,-150 699.7571,-150 693.7571,-144 693.7571,-138 693.7571,-138 693.7571,-98 693.7571,-98 693.7571,-92 699.7571,-86 705.7571,-86 705.7571,-86 825.3006,-86 825.3006,-86 831.3006,-86 837.3006,-92 837.3006,-98 837.3006,-98 837.3006,-138 837.3006,-138 837.3006,-144 831.3006,-150 825.3006,-150\"/>\n",
       "<text text-anchor=\"start\" x=\"727.439\" y=\"-134.8\" font-family=\"Helvetica,sans-Serif\" font-size=\"14.00\" fill=\"#000000\">chol_3 ≤ 0.5</text>\n",
       "<text text-anchor=\"start\" x=\"729.1377\" y=\"-120.8\" font-family=\"Helvetica,sans-Serif\" font-size=\"14.00\" fill=\"#000000\">gini = 0.478</text>\n",
       "<text text-anchor=\"start\" x=\"715.9136\" y=\"-106.8\" font-family=\"Helvetica,sans-Serif\" font-size=\"14.00\" fill=\"#000000\">samples = 6522</text>\n",
       "<text text-anchor=\"start\" x=\"701.8931\" y=\"-92.8\" font-family=\"Helvetica,sans-Serif\" font-size=\"14.00\" fill=\"#000000\">value = [2580, 3942]</text>\n",
       "</g>\n",
       "<!-- 8&#45;&gt;9 -->\n",
       "<g id=\"edge9\" class=\"edge\">\n",
       "<title>8&#45;&gt;9</title>\n",
       "<path fill=\"none\" stroke=\"#000000\" d=\"M765.5288,-185.8089C765.5288,-177.6906 765.5288,-168.8517 765.5288,-160.3186\"/>\n",
       "<polygon fill=\"#000000\" stroke=\"#000000\" points=\"769.0289,-160.1307 765.5288,-150.1308 762.0289,-160.1308 769.0289,-160.1307\"/>\n",
       "</g>\n",
       "<!-- 12 -->\n",
       "<g id=\"node13\" class=\"node\">\n",
       "<title>12</title>\n",
       "<path fill=\"#399de5\" fill-opacity=\"0.807843\" stroke=\"#000000\" d=\"M1068.5542,-150C1068.5542,-150 942.5034,-150 942.5034,-150 936.5034,-150 930.5034,-144 930.5034,-138 930.5034,-138 930.5034,-98 930.5034,-98 930.5034,-92 936.5034,-86 942.5034,-86 942.5034,-86 1068.5542,-86 1068.5542,-86 1074.5542,-86 1080.5542,-92 1080.5542,-98 1080.5542,-98 1080.5542,-138 1080.5542,-138 1080.5542,-144 1074.5542,-150 1068.5542,-150\"/>\n",
       "<text text-anchor=\"start\" x=\"963.1528\" y=\"-134.8\" font-family=\"Helvetica,sans-Serif\" font-size=\"14.00\" fill=\"#000000\">ap_hi ≤ 149.5</text>\n",
       "<text text-anchor=\"start\" x=\"969.1377\" y=\"-120.8\" font-family=\"Helvetica,sans-Serif\" font-size=\"14.00\" fill=\"#000000\">gini = 0.271</text>\n",
       "<text text-anchor=\"start\" x=\"952.0205\" y=\"-106.8\" font-family=\"Helvetica,sans-Serif\" font-size=\"14.00\" fill=\"#000000\">samples = 13553</text>\n",
       "<text text-anchor=\"start\" x=\"938.5161\" y=\"-92.8\" font-family=\"Helvetica,sans-Serif\" font-size=\"14.00\" fill=\"#000000\">value = [2193, 11360]</text>\n",
       "</g>\n",
       "<!-- 8&#45;&gt;12 -->\n",
       "<g id=\"edge12\" class=\"edge\">\n",
       "<title>8&#45;&gt;12</title>\n",
       "<path fill=\"none\" stroke=\"#000000\" d=\"M841.1369,-186.4966C866.4678,-175.9421 894.8709,-164.1075 920.8494,-153.2831\"/>\n",
       "<polygon fill=\"#000000\" stroke=\"#000000\" points=\"922.4159,-156.4221 930.3005,-149.3451 919.7236,-149.9606 922.4159,-156.4221\"/>\n",
       "</g>\n",
       "<!-- 10 -->\n",
       "<g id=\"node11\" class=\"node\">\n",
       "<title>10</title>\n",
       "<path fill=\"#399de5\" fill-opacity=\"0.207843\" stroke=\"#000000\" d=\"M751.3006,-50C751.3006,-50 631.7571,-50 631.7571,-50 625.7571,-50 619.7571,-44 619.7571,-38 619.7571,-38 619.7571,-12 619.7571,-12 619.7571,-6 625.7571,0 631.7571,0 631.7571,0 751.3006,0 751.3006,0 757.3006,0 763.3006,-6 763.3006,-12 763.3006,-12 763.3006,-38 763.3006,-38 763.3006,-44 757.3006,-50 751.3006,-50\"/>\n",
       "<text text-anchor=\"start\" x=\"655.1377\" y=\"-34.8\" font-family=\"Helvetica,sans-Serif\" font-size=\"14.00\" fill=\"#000000\">gini = 0.493</text>\n",
       "<text text-anchor=\"start\" x=\"641.9136\" y=\"-20.8\" font-family=\"Helvetica,sans-Serif\" font-size=\"14.00\" fill=\"#000000\">samples = 5258</text>\n",
       "<text text-anchor=\"start\" x=\"627.8931\" y=\"-6.8\" font-family=\"Helvetica,sans-Serif\" font-size=\"14.00\" fill=\"#000000\">value = [2325, 2933]</text>\n",
       "</g>\n",
       "<!-- 9&#45;&gt;10 -->\n",
       "<g id=\"edge10\" class=\"edge\">\n",
       "<title>9&#45;&gt;10</title>\n",
       "<path fill=\"none\" stroke=\"#000000\" d=\"M740.0622,-85.9947C732.8922,-76.9837 725.0801,-67.1658 717.8606,-58.0927\"/>\n",
       "<polygon fill=\"#000000\" stroke=\"#000000\" points=\"720.3977,-55.6599 711.4324,-50.014 714.9201,-60.0184 720.3977,-55.6599\"/>\n",
       "</g>\n",
       "<!-- 11 -->\n",
       "<g id=\"node12\" class=\"node\">\n",
       "<title>11</title>\n",
       "<path fill=\"#399de5\" fill-opacity=\"0.749020\" stroke=\"#000000\" d=\"M904.515,-50C904.515,-50 792.5426,-50 792.5426,-50 786.5426,-50 780.5426,-44 780.5426,-38 780.5426,-38 780.5426,-12 780.5426,-12 780.5426,-6 786.5426,0 792.5426,0 792.5426,0 904.515,0 904.515,0 910.515,0 916.515,-6 916.515,-12 916.515,-12 916.515,-38 916.515,-38 916.515,-44 910.515,-50 904.515,-50\"/>\n",
       "<text text-anchor=\"start\" x=\"812.1377\" y=\"-34.8\" font-family=\"Helvetica,sans-Serif\" font-size=\"14.00\" fill=\"#000000\">gini = 0.322</text>\n",
       "<text text-anchor=\"start\" x=\"798.9136\" y=\"-20.8\" font-family=\"Helvetica,sans-Serif\" font-size=\"14.00\" fill=\"#000000\">samples = 1264</text>\n",
       "<text text-anchor=\"start\" x=\"788.7861\" y=\"-6.8\" font-family=\"Helvetica,sans-Serif\" font-size=\"14.00\" fill=\"#000000\">value = [255, 1009]</text>\n",
       "</g>\n",
       "<!-- 9&#45;&gt;11 -->\n",
       "<g id=\"edge11\" class=\"edge\">\n",
       "<title>9&#45;&gt;11</title>\n",
       "<path fill=\"none\" stroke=\"#000000\" d=\"M794.0927,-85.9947C802.2989,-76.7998 811.2549,-66.7648 819.4894,-57.5381\"/>\n",
       "<polygon fill=\"#000000\" stroke=\"#000000\" points=\"822.1572,-59.8054 826.2045,-50.014 816.9346,-55.1443 822.1572,-59.8054\"/>\n",
       "</g>\n",
       "<!-- 13 -->\n",
       "<g id=\"node14\" class=\"node\">\n",
       "<title>13</title>\n",
       "<path fill=\"#399de5\" fill-opacity=\"0.772549\" stroke=\"#000000\" d=\"M1065.3006,-50C1065.3006,-50 945.7571,-50 945.7571,-50 939.7571,-50 933.7571,-44 933.7571,-38 933.7571,-38 933.7571,-12 933.7571,-12 933.7571,-6 939.7571,0 945.7571,0 945.7571,0 1065.3006,0 1065.3006,0 1071.3006,0 1077.3006,-6 1077.3006,-12 1077.3006,-12 1077.3006,-38 1077.3006,-38 1077.3006,-44 1071.3006,-50 1065.3006,-50\"/>\n",
       "<text text-anchor=\"start\" x=\"969.1377\" y=\"-34.8\" font-family=\"Helvetica,sans-Serif\" font-size=\"14.00\" fill=\"#000000\">gini = 0.301</text>\n",
       "<text text-anchor=\"start\" x=\"955.9136\" y=\"-20.8\" font-family=\"Helvetica,sans-Serif\" font-size=\"14.00\" fill=\"#000000\">samples = 6864</text>\n",
       "<text text-anchor=\"start\" x=\"941.8931\" y=\"-6.8\" font-family=\"Helvetica,sans-Serif\" font-size=\"14.00\" fill=\"#000000\">value = [1267, 5597]</text>\n",
       "</g>\n",
       "<!-- 12&#45;&gt;13 -->\n",
       "<g id=\"edge13\" class=\"edge\">\n",
       "<title>12&#45;&gt;13</title>\n",
       "<path fill=\"none\" stroke=\"#000000\" d=\"M1005.5288,-85.9947C1005.5288,-77.6273 1005.5288,-68.5643 1005.5288,-60.0478\"/>\n",
       "<polygon fill=\"#000000\" stroke=\"#000000\" points=\"1009.0289,-60.014 1005.5288,-50.014 1002.0289,-60.0141 1009.0289,-60.014\"/>\n",
       "</g>\n",
       "<!-- 14 -->\n",
       "<g id=\"node15\" class=\"node\">\n",
       "<title>14</title>\n",
       "<path fill=\"#399de5\" fill-opacity=\"0.839216\" stroke=\"#000000\" d=\"M1218.515,-50C1218.515,-50 1106.5426,-50 1106.5426,-50 1100.5426,-50 1094.5426,-44 1094.5426,-38 1094.5426,-38 1094.5426,-12 1094.5426,-12 1094.5426,-6 1100.5426,0 1106.5426,0 1106.5426,0 1218.515,0 1218.515,0 1224.515,0 1230.515,-6 1230.515,-12 1230.515,-12 1230.515,-38 1230.515,-38 1230.515,-44 1224.515,-50 1218.515,-50\"/>\n",
       "<text text-anchor=\"start\" x=\"1126.1377\" y=\"-34.8\" font-family=\"Helvetica,sans-Serif\" font-size=\"14.00\" fill=\"#000000\">gini = 0.239</text>\n",
       "<text text-anchor=\"start\" x=\"1112.9136\" y=\"-20.8\" font-family=\"Helvetica,sans-Serif\" font-size=\"14.00\" fill=\"#000000\">samples = 6689</text>\n",
       "<text text-anchor=\"start\" x=\"1102.7861\" y=\"-6.8\" font-family=\"Helvetica,sans-Serif\" font-size=\"14.00\" fill=\"#000000\">value = [926, 5763]</text>\n",
       "</g>\n",
       "<!-- 12&#45;&gt;14 -->\n",
       "<g id=\"edge14\" class=\"edge\">\n",
       "<title>12&#45;&gt;14</title>\n",
       "<path fill=\"none\" stroke=\"#000000\" d=\"M1059.5593,-85.9947C1076.3236,-76.0642 1094.7423,-65.1538 1111.3095,-55.3401\"/>\n",
       "<polygon fill=\"#000000\" stroke=\"#000000\" points=\"1113.4808,-58.1219 1120.3008,-50.014 1109.9132,-52.0993 1113.4808,-58.1219\"/>\n",
       "</g>\n",
       "</g>\n",
       "</svg>\n"
      ],
      "text/plain": [
       "<graphviz.files.Source at 0x1a1e6b8208>"
      ]
     },
     "execution_count": 240,
     "metadata": {},
     "output_type": "execute_result"
    }
   ],
   "source": [
    "dot_data = export_graphviz(tree, out_file=None, filled=True, rounded=True, special_characters=True, \n",
    "                           feature_names=X_train.columns) \n",
    "graph = graphviz.Source(dot_data)\n",
    "graph"
   ]
  },
  {
   "cell_type": "markdown",
   "metadata": {},
   "source": [
    "# Question 3. What 3 features are used to make predictions in the created decision tree?\n",
    "\n",
    "weight, height, gluc=3\n",
    "smoke, age, gluc=3\n",
    "age, weight, chol=3\n",
    "age, ap_hi, chol=3"
   ]
  },
  {
   "cell_type": "code",
   "execution_count": 241,
   "metadata": {},
   "outputs": [],
   "source": [
    "# ANSWER - age, ap_hi, chol=3"
   ]
  },
  {
   "cell_type": "code",
   "execution_count": 242,
   "metadata": {},
   "outputs": [
    {
     "data": {
      "text/plain": [
       "0.7212857142857143"
      ]
     },
     "execution_count": 242,
     "metadata": {},
     "output_type": "execute_result"
    }
   ],
   "source": [
    "# Make predictions for holdout data (X_valid, y_valid) with the trained decision tree. Calculate accuracy.\n",
    "tree_predict = tree.predict(X_valid)\n",
    "accuracy_score(y_valid,tree_predict)"
   ]
  },
  {
   "cell_type": "code",
   "execution_count": 243,
   "metadata": {},
   "outputs": [
    {
     "name": "stdout",
     "output_type": "stream",
     "text": [
      "CPU times: user 6 µs, sys: 1 µs, total: 7 µs\n",
      "Wall time: 21 µs\n"
     ]
    },
    {
     "data": {
      "text/plain": [
       "GridSearchCV(cv=5, error_score='raise',\n",
       "       estimator=DecisionTreeClassifier(class_weight=None, criterion='gini', max_depth=3,\n",
       "            max_features=None, max_leaf_nodes=None,\n",
       "            min_impurity_decrease=0.0, min_impurity_split=None,\n",
       "            min_samples_leaf=1, min_samples_split=2,\n",
       "            min_weight_fraction_leaf=0.0, presort=False, random_state=17,\n",
       "            splitter='best'),\n",
       "       fit_params=None, iid=True, n_jobs=1,\n",
       "       param_grid={'max_depth': [2, 3, 4, 5, 6, 7, 8, 9, 10]},\n",
       "       pre_dispatch='2*n_jobs', refit=True, return_train_score='warn',\n",
       "       scoring=None, verbose=0)"
      ]
     },
     "execution_count": 243,
     "metadata": {},
     "output_type": "execute_result"
    }
   ],
   "source": [
    "#Set up the depth of the tree using cross-validation on the dataset (X_train, y_train) in order to increase \n",
    "#quality of the model. Use GridSearchCV with 5 folds. Fix random_state=17 and change max_depth from 2 to 10.\n",
    "random_state=17\n",
    "tree_params = {'max_depth': list(range(2, 11))}\n",
    "tree_grid = GridSearchCV (tree, tree_params, cv=5)\n",
    "%time\n",
    "tree_grid.fit(X_train, y_train)      "
   ]
  },
  {
   "cell_type": "code",
   "execution_count": 244,
   "metadata": {},
   "outputs": [
    {
     "name": "stdout",
     "output_type": "stream",
     "text": [
      "[2 3 4 5 6 7 8 9 10]\n",
      "[0.7155102  0.72771429 0.7304898  0.73095918 0.73195918 0.73038776\n",
      " 0.72953061 0.72789796 0.7262449 ]\n",
      "<class 'numpy.ma.core.MaskedArray'>\n",
      "<class 'numpy.ndarray'>\n",
      "[2.0 3.0 4.0 5.0 6.0 7.0 8.0 9.0 10.0]\n",
      "[0.7155102  0.72771429 0.7304898  0.73095918 0.73195918 0.73038776\n",
      " 0.72953061 0.72789796 0.7262449 ]\n"
     ]
    }
   ],
   "source": [
    "print(tree_grid.cv_results_[\"param_max_depth\"])\n",
    "print(tree_grid.cv_results_[\"mean_test_score\"])\n",
    "print(type(tree_grid.cv_results_[\"param_max_depth\"]))\n",
    "print(type(tree_grid.cv_results_[\"mean_test_score\"]))\n",
    "print(tree_grid.cv_results_[\"param_max_depth\"].astype(\"float\"))\n",
    "print(tree_grid.cv_results_[\"mean_test_score\"].astype(\"float\"))\n",
    "#print(tree_grid.cv_results_)"
   ]
  },
  {
   "cell_type": "code",
   "execution_count": 245,
   "metadata": {},
   "outputs": [
    {
     "data": {
      "image/png": "[encoded data removed]",
      "text/plain": [
       "<Figure size 720x576 with 1 Axes>"
      ]
     },
     "metadata": {
      "needs_background": "light"
     },
     "output_type": "display_data"
    }
   ],
   "source": [
    "# Draw the plot to show how mean accuracy is changing in regards to max_depth value on cross-validation.\n",
    "plt.rcParams['figure.figsize'] = (10,8) \n",
    "\n",
    "plt.plot(tree_grid.cv_results_[\"param_max_depth\"].astype(\"int\"), \n",
    "         tree_grid.cv_results_[\"mean_test_score\"].astype(\"float\"), label=\"accuracy\")\n",
    "\n",
    "plt.xlabel('max_depth')\n",
    "plt.ylabel('accuracy')\n",
    "plt.title('How mean accuracy is changing in regards to max_depth value on cross-validation')\n",
    "plt.legend();"
   ]
  },
  {
   "cell_type": "code",
   "execution_count": 246,
   "metadata": {},
   "outputs": [
    {
     "name": "stdout",
     "output_type": "stream",
     "text": [
      "Best params: {'max_depth': 6}\n",
      "Best cross validaton score 0.7319591836734693\n"
     ]
    }
   ],
   "source": [
    "# Print the best value of max_depth where the mean value of cross-validation quality metric reachs maximum. \n",
    "# Also compute accuracy on holdout data. All these computations are \n",
    "# possible to make using the trained instance of the class GridSearchCV.\n",
    "print(\"Best params:\", tree_grid.best_params_)\n",
    "print(\"Best cross validaton score\", tree_grid.best_score_)"
   ]
  },
  {
   "cell_type": "code",
   "execution_count": 247,
   "metadata": {},
   "outputs": [
    {
     "data": {
      "text/plain": [
       "0.7327142857142857"
      ]
     },
     "execution_count": 247,
     "metadata": {},
     "output_type": "execute_result"
    }
   ],
   "source": [
    "from sklearn.model_selection import cross_val_score\n",
    "np.mean(cross_val_score (tree_grid, X_valid, y_valid, cv=5))"
   ]
  },
  {
   "cell_type": "markdown",
   "metadata": {},
   "source": [
    "# Question 4. Is there a local maximum of accuracy on the built validation curve? Did GridSearchCV help to tune max_depth so that there's been at least 1% change in holdout accuracy? (check out the expression (acc2 - acc1) / acc1 * 100%, where acc1 and acc2 are accuracies on holdout data before and after tuning max_depth with GridSearchCV respectively)?\n",
    "\n",
    "yes, yes\n",
    "yes, no\n",
    "no, yes\n",
    "no, no"
   ]
  },
  {
   "cell_type": "code",
   "execution_count": 248,
   "metadata": {},
   "outputs": [
    {
     "name": "stdout",
     "output_type": "stream",
     "text": [
      "0.7212857142857143\n"
     ]
    }
   ],
   "source": [
    "acc1 = accuracy_score(y_valid,tree_predict)\n",
    "print(acc1)"
   ]
  },
  {
   "cell_type": "code",
   "execution_count": 249,
   "metadata": {},
   "outputs": [
    {
     "name": "stdout",
     "output_type": "stream",
     "text": [
      "0.7258095238095238\n"
     ]
    }
   ],
   "source": [
    "tree_grid_predict = tree_grid.predict(X_valid)\n",
    "acc2 = accuracy_score(y_valid,tree_grid_predict)\n",
    "print(acc2)"
   ]
  },
  {
   "cell_type": "code",
   "execution_count": 250,
   "metadata": {},
   "outputs": [
    {
     "name": "stdout",
     "output_type": "stream",
     "text": [
      "0.7258095238095238\n"
     ]
    }
   ],
   "source": [
    "tree_tuned=DecisionTreeClassifier(max_depth = 6, random_state = 17)\n",
    "tree_tuned.fit(X_train, y_train)\n",
    "tree_tuned_predict = tree_tuned.predict(X_valid)\n",
    "acc3 = accuracy_score(y_valid,tree_tuned_predict)\n",
    "print(acc3)"
   ]
  },
  {
   "cell_type": "code",
   "execution_count": 251,
   "metadata": {},
   "outputs": [
    {
     "data": {
      "text/plain": [
       "1.0"
      ]
     },
     "execution_count": 251,
     "metadata": {},
     "output_type": "execute_result"
    }
   ],
   "source": [
    "round(((acc2 - acc1) / acc1) * 100,0)"
   ]
  },
  {
   "cell_type": "code",
   "execution_count": 252,
   "metadata": {},
   "outputs": [],
   "source": [
    "# ANSWER - yes, yes ( 1)local max = max_depth=6, 2)0,63% - 1% increasing )"
   ]
  },
  {
   "cell_type": "markdown",
   "metadata": {},
   "source": [
    "# Question 5. What binary feature is the most important for heart disease detection (it is placed in the root of the tree)?\n",
    "\n",
    "Systolic blood pressure from 160 to 180 (mmHg)\n",
    "Gender male / female\n",
    "Systolic blood pressure from 140 to 160 (mmHg)\n",
    "Age from 50 to 55 (years)\n",
    "Smokes / doesn't smoke\n",
    "Age from 60 to 65 (years)"
   ]
  },
  {
   "cell_type": "code",
   "execution_count": 253,
   "metadata": {},
   "outputs": [
    {
     "data": {
      "text/html": [
       "<div>\n",
       "<style scoped>\n",
       "    .dataframe tbody tr th:only-of-type {\n",
       "        vertical-align: middle;\n",
       "    }\n",
       "\n",
       "    .dataframe tbody tr th {\n",
       "        vertical-align: top;\n",
       "    }\n",
       "\n",
       "    .dataframe thead th {\n",
       "        text-align: right;\n",
       "    }\n",
       "</style>\n",
       "<table border=\"1\" class=\"dataframe\">\n",
       "  <thead>\n",
       "    <tr style=\"text-align: right;\">\n",
       "      <th></th>\n",
       "      <th>age</th>\n",
       "      <th>gender</th>\n",
       "      <th>height</th>\n",
       "      <th>weight</th>\n",
       "      <th>ap_hi</th>\n",
       "      <th>ap_lo</th>\n",
       "      <th>smoke</th>\n",
       "      <th>alco</th>\n",
       "      <th>active</th>\n",
       "      <th>cardio</th>\n",
       "      <th>age_in_years</th>\n",
       "      <th>chol_1</th>\n",
       "      <th>chol_2</th>\n",
       "      <th>chol_3</th>\n",
       "      <th>glu_1</th>\n",
       "      <th>glu_2</th>\n",
       "      <th>glu_3</th>\n",
       "    </tr>\n",
       "    <tr>\n",
       "      <th>id</th>\n",
       "      <th></th>\n",
       "      <th></th>\n",
       "      <th></th>\n",
       "      <th></th>\n",
       "      <th></th>\n",
       "      <th></th>\n",
       "      <th></th>\n",
       "      <th></th>\n",
       "      <th></th>\n",
       "      <th></th>\n",
       "      <th></th>\n",
       "      <th></th>\n",
       "      <th></th>\n",
       "      <th></th>\n",
       "      <th></th>\n",
       "      <th></th>\n",
       "      <th></th>\n",
       "    </tr>\n",
       "  </thead>\n",
       "  <tbody>\n",
       "    <tr>\n",
       "      <th>0</th>\n",
       "      <td>18393.0</td>\n",
       "      <td>2</td>\n",
       "      <td>168</td>\n",
       "      <td>62.0</td>\n",
       "      <td>110</td>\n",
       "      <td>80</td>\n",
       "      <td>0</td>\n",
       "      <td>0</td>\n",
       "      <td>1</td>\n",
       "      <td>0</td>\n",
       "      <td>50.0</td>\n",
       "      <td>1</td>\n",
       "      <td>0</td>\n",
       "      <td>0</td>\n",
       "      <td>1</td>\n",
       "      <td>0</td>\n",
       "      <td>0</td>\n",
       "    </tr>\n",
       "    <tr>\n",
       "      <th>1</th>\n",
       "      <td>20228.0</td>\n",
       "      <td>1</td>\n",
       "      <td>156</td>\n",
       "      <td>85.0</td>\n",
       "      <td>140</td>\n",
       "      <td>90</td>\n",
       "      <td>0</td>\n",
       "      <td>0</td>\n",
       "      <td>1</td>\n",
       "      <td>1</td>\n",
       "      <td>55.0</td>\n",
       "      <td>0</td>\n",
       "      <td>0</td>\n",
       "      <td>1</td>\n",
       "      <td>1</td>\n",
       "      <td>0</td>\n",
       "      <td>0</td>\n",
       "    </tr>\n",
       "    <tr>\n",
       "      <th>2</th>\n",
       "      <td>18857.0</td>\n",
       "      <td>1</td>\n",
       "      <td>165</td>\n",
       "      <td>64.0</td>\n",
       "      <td>130</td>\n",
       "      <td>70</td>\n",
       "      <td>0</td>\n",
       "      <td>0</td>\n",
       "      <td>0</td>\n",
       "      <td>1</td>\n",
       "      <td>52.0</td>\n",
       "      <td>0</td>\n",
       "      <td>0</td>\n",
       "      <td>1</td>\n",
       "      <td>1</td>\n",
       "      <td>0</td>\n",
       "      <td>0</td>\n",
       "    </tr>\n",
       "    <tr>\n",
       "      <th>3</th>\n",
       "      <td>17623.0</td>\n",
       "      <td>2</td>\n",
       "      <td>169</td>\n",
       "      <td>82.0</td>\n",
       "      <td>150</td>\n",
       "      <td>100</td>\n",
       "      <td>0</td>\n",
       "      <td>0</td>\n",
       "      <td>1</td>\n",
       "      <td>1</td>\n",
       "      <td>48.0</td>\n",
       "      <td>1</td>\n",
       "      <td>0</td>\n",
       "      <td>0</td>\n",
       "      <td>1</td>\n",
       "      <td>0</td>\n",
       "      <td>0</td>\n",
       "    </tr>\n",
       "    <tr>\n",
       "      <th>4</th>\n",
       "      <td>17474.0</td>\n",
       "      <td>1</td>\n",
       "      <td>156</td>\n",
       "      <td>56.0</td>\n",
       "      <td>100</td>\n",
       "      <td>60</td>\n",
       "      <td>0</td>\n",
       "      <td>0</td>\n",
       "      <td>0</td>\n",
       "      <td>0</td>\n",
       "      <td>48.0</td>\n",
       "      <td>1</td>\n",
       "      <td>0</td>\n",
       "      <td>0</td>\n",
       "      <td>1</td>\n",
       "      <td>0</td>\n",
       "      <td>0</td>\n",
       "    </tr>\n",
       "  </tbody>\n",
       "</table>\n",
       "</div>"
      ],
      "text/plain": [
       "        age  gender  height  weight  ap_hi  ap_lo  smoke  alco  active  \\\n",
       "id                                                                       \n",
       "0   18393.0       2     168    62.0    110     80      0     0       1   \n",
       "1   20228.0       1     156    85.0    140     90      0     0       1   \n",
       "2   18857.0       1     165    64.0    130     70      0     0       0   \n",
       "3   17623.0       2     169    82.0    150    100      0     0       1   \n",
       "4   17474.0       1     156    56.0    100     60      0     0       0   \n",
       "\n",
       "    cardio  age_in_years  chol_1  chol_2  chol_3  glu_1  glu_2  glu_3  \n",
       "id                                                                     \n",
       "0        0          50.0       1       0       0      1      0      0  \n",
       "1        1          55.0       0       0       1      1      0      0  \n",
       "2        1          52.0       0       0       1      1      0      0  \n",
       "3        1          48.0       1       0       0      1      0      0  \n",
       "4        0          48.0       1       0       0      1      0      0  "
      ]
     },
     "execution_count": 253,
     "metadata": {},
     "output_type": "execute_result"
    }
   ],
   "source": [
    "df1=df.copy()\n",
    "df1.head()"
   ]
  },
  {
   "cell_type": "code",
   "execution_count": 254,
   "metadata": {},
   "outputs": [],
   "source": [
    "# Create binary features according to this picture:\n",
    "# age∈[40,50),…age∈[60,65) (4 features)\n",
    "# systolic blood pressure: ap_hi∈[120,140),ap_hi∈[140,160),ap_hi∈[160,180), (3 features)\n",
    "\n",
    "#df[\"age_in_years\"] = df[\"age_in_years\"].map({df[(df[\"age_in_years\"] >=30) and (df[\"age_in_years\"] < 40)] : \"0\",\n",
    "#                                             df[(df[\"age_in_years\"] >=40) and (df[\"age_in_years\"] < 50)] : \"1\",\n",
    "#                                           df[(df[\"age_in_years\"] >=50) and (df[\"age_in_years\"] < 60)] : \"2\",\n",
    "#                                            df[(df[\"age_in_years\"] >=60) and (df[\"age_in_years\"] < 65)] : \"3\"})"
   ]
  },
  {
   "cell_type": "code",
   "execution_count": 255,
   "metadata": {},
   "outputs": [
    {
     "data": {
      "text/plain": [
       "array([2., 3., 1., 4., 0.])"
      ]
     },
     "execution_count": 255,
     "metadata": {},
     "output_type": "execute_result"
    }
   ],
   "source": [
    "df1.loc[(df1[\"age_in_years\"] > 0) & (df1[\"age_in_years\"] < 40),\"age_in_years\"] = 0\n",
    "df1.loc[(df1[\"age_in_years\"] >=40) & (df1[\"age_in_years\"] < 50),\"age_in_years\"] = 1\n",
    "df1.loc[(df1[\"age_in_years\"] >=50) & (df1[\"age_in_years\"] < 55),\"age_in_years\"] = 2\n",
    "df1.loc[(df1[\"age_in_years\"] >=55) & (df1[\"age_in_years\"] < 60),\"age_in_years\"] = 3\n",
    "df1.loc[(df1[\"age_in_years\"] >=60) & (df1[\"age_in_years\"] < 65),\"age_in_years\"] = 4\n",
    "df1.loc[(df1[\"age_in_years\"] >=65) & (df1[\"age_in_years\"] < 200),\"age_in_years\"] = 0\n",
    "\n",
    "df1[\"age_in_years\"].unique()"
   ]
  },
  {
   "cell_type": "code",
   "execution_count": 256,
   "metadata": {},
   "outputs": [
    {
     "data": {
      "text/plain": [
       "array([0, 2, 1, 3])"
      ]
     },
     "execution_count": 256,
     "metadata": {},
     "output_type": "execute_result"
    }
   ],
   "source": [
    "df1.loc[(df1[\"ap_hi\"] < 120),\"ap_hi\"] = 0\n",
    "df1.loc[(df1[\"ap_hi\"] >=120) & (df1[\"ap_hi\"] < 140),\"ap_hi\"] = 1\n",
    "df1.loc[(df1[\"ap_hi\"] >=140) & (df1[\"ap_hi\"] < 160),\"ap_hi\"] = 2\n",
    "df1.loc[(df1[\"ap_hi\"] >=160) & (df1[\"ap_hi\"] < 180),\"ap_hi\"] = 3\n",
    "df1.loc[(df1[\"ap_hi\"] >=180),\"ap_hi\"] = 0\n",
    "\n",
    "\n",
    "df1[\"ap_hi\"].unique()"
   ]
  },
  {
   "cell_type": "code",
   "execution_count": 257,
   "metadata": {},
   "outputs": [
    {
     "data": {
      "text/html": [
       "<div>\n",
       "<style scoped>\n",
       "    .dataframe tbody tr th:only-of-type {\n",
       "        vertical-align: middle;\n",
       "    }\n",
       "\n",
       "    .dataframe tbody tr th {\n",
       "        vertical-align: top;\n",
       "    }\n",
       "\n",
       "    .dataframe thead th {\n",
       "        text-align: right;\n",
       "    }\n",
       "</style>\n",
       "<table border=\"1\" class=\"dataframe\">\n",
       "  <thead>\n",
       "    <tr style=\"text-align: right;\">\n",
       "      <th></th>\n",
       "      <th>age</th>\n",
       "      <th>gender</th>\n",
       "      <th>height</th>\n",
       "      <th>weight</th>\n",
       "      <th>ap_hi</th>\n",
       "      <th>ap_lo</th>\n",
       "      <th>smoke</th>\n",
       "      <th>alco</th>\n",
       "      <th>active</th>\n",
       "      <th>cardio</th>\n",
       "      <th>age_in_years</th>\n",
       "      <th>chol_1</th>\n",
       "      <th>chol_2</th>\n",
       "      <th>chol_3</th>\n",
       "      <th>glu_1</th>\n",
       "      <th>glu_2</th>\n",
       "      <th>glu_3</th>\n",
       "    </tr>\n",
       "    <tr>\n",
       "      <th>id</th>\n",
       "      <th></th>\n",
       "      <th></th>\n",
       "      <th></th>\n",
       "      <th></th>\n",
       "      <th></th>\n",
       "      <th></th>\n",
       "      <th></th>\n",
       "      <th></th>\n",
       "      <th></th>\n",
       "      <th></th>\n",
       "      <th></th>\n",
       "      <th></th>\n",
       "      <th></th>\n",
       "      <th></th>\n",
       "      <th></th>\n",
       "      <th></th>\n",
       "      <th></th>\n",
       "    </tr>\n",
       "  </thead>\n",
       "  <tbody>\n",
       "    <tr>\n",
       "      <th>0</th>\n",
       "      <td>18393.0</td>\n",
       "      <td>1</td>\n",
       "      <td>168</td>\n",
       "      <td>62.0</td>\n",
       "      <td>0</td>\n",
       "      <td>80</td>\n",
       "      <td>0</td>\n",
       "      <td>0</td>\n",
       "      <td>1</td>\n",
       "      <td>0</td>\n",
       "      <td>2.0</td>\n",
       "      <td>1</td>\n",
       "      <td>0</td>\n",
       "      <td>0</td>\n",
       "      <td>1</td>\n",
       "      <td>0</td>\n",
       "      <td>0</td>\n",
       "    </tr>\n",
       "    <tr>\n",
       "      <th>1</th>\n",
       "      <td>20228.0</td>\n",
       "      <td>0</td>\n",
       "      <td>156</td>\n",
       "      <td>85.0</td>\n",
       "      <td>2</td>\n",
       "      <td>90</td>\n",
       "      <td>0</td>\n",
       "      <td>0</td>\n",
       "      <td>1</td>\n",
       "      <td>1</td>\n",
       "      <td>3.0</td>\n",
       "      <td>0</td>\n",
       "      <td>0</td>\n",
       "      <td>1</td>\n",
       "      <td>1</td>\n",
       "      <td>0</td>\n",
       "      <td>0</td>\n",
       "    </tr>\n",
       "    <tr>\n",
       "      <th>2</th>\n",
       "      <td>18857.0</td>\n",
       "      <td>0</td>\n",
       "      <td>165</td>\n",
       "      <td>64.0</td>\n",
       "      <td>1</td>\n",
       "      <td>70</td>\n",
       "      <td>0</td>\n",
       "      <td>0</td>\n",
       "      <td>0</td>\n",
       "      <td>1</td>\n",
       "      <td>2.0</td>\n",
       "      <td>0</td>\n",
       "      <td>0</td>\n",
       "      <td>1</td>\n",
       "      <td>1</td>\n",
       "      <td>0</td>\n",
       "      <td>0</td>\n",
       "    </tr>\n",
       "    <tr>\n",
       "      <th>3</th>\n",
       "      <td>17623.0</td>\n",
       "      <td>1</td>\n",
       "      <td>169</td>\n",
       "      <td>82.0</td>\n",
       "      <td>2</td>\n",
       "      <td>100</td>\n",
       "      <td>0</td>\n",
       "      <td>0</td>\n",
       "      <td>1</td>\n",
       "      <td>1</td>\n",
       "      <td>1.0</td>\n",
       "      <td>1</td>\n",
       "      <td>0</td>\n",
       "      <td>0</td>\n",
       "      <td>1</td>\n",
       "      <td>0</td>\n",
       "      <td>0</td>\n",
       "    </tr>\n",
       "    <tr>\n",
       "      <th>4</th>\n",
       "      <td>17474.0</td>\n",
       "      <td>0</td>\n",
       "      <td>156</td>\n",
       "      <td>56.0</td>\n",
       "      <td>0</td>\n",
       "      <td>60</td>\n",
       "      <td>0</td>\n",
       "      <td>0</td>\n",
       "      <td>0</td>\n",
       "      <td>0</td>\n",
       "      <td>1.0</td>\n",
       "      <td>1</td>\n",
       "      <td>0</td>\n",
       "      <td>0</td>\n",
       "      <td>1</td>\n",
       "      <td>0</td>\n",
       "      <td>0</td>\n",
       "    </tr>\n",
       "  </tbody>\n",
       "</table>\n",
       "</div>"
      ],
      "text/plain": [
       "        age gender  height  weight  ap_hi  ap_lo  smoke  alco  active  cardio  \\\n",
       "id                                                                              \n",
       "0   18393.0      1     168    62.0      0     80      0     0       1       0   \n",
       "1   20228.0      0     156    85.0      2     90      0     0       1       1   \n",
       "2   18857.0      0     165    64.0      1     70      0     0       0       1   \n",
       "3   17623.0      1     169    82.0      2    100      0     0       1       1   \n",
       "4   17474.0      0     156    56.0      0     60      0     0       0       0   \n",
       "\n",
       "    age_in_years  chol_1  chol_2  chol_3  glu_1  glu_2  glu_3  \n",
       "id                                                             \n",
       "0            2.0       1       0       0      1      0      0  \n",
       "1            3.0       0       0       1      1      0      0  \n",
       "2            2.0       0       0       1      1      0      0  \n",
       "3            1.0       1       0       0      1      0      0  \n",
       "4            1.0       1       0       0      1      0      0  "
      ]
     },
     "execution_count": 257,
     "metadata": {},
     "output_type": "execute_result"
    }
   ],
   "source": [
    "# If the values of age or blood pressure don't fall into any of the intervals then all binary features will be equal \n",
    "# to zero. Then we create decision tree with these features and additional smoke, cholesterol and gender features. \n",
    "#Transform the cholesterol to 3 binary features according to it's 3 unique values ( cholesterol=1, cholesterol=2 and \n",
    "#cholesterol=3). This method is called dummy-encoding or One Hot Encoding (OHE). Transform the gender from 1 and \n",
    "#2 into 0 and 1. It is better to rename it to male (0 – woman, 1 – man). In general, this is typically done with \n",
    "#sklearn.preprocessing.LabelEncoder but here in case of only 2 unique values it's not necessary.\n",
    "#Finally the decision tree is built using 12 binary features (without original features).\n",
    "df1[\"gender\"] = df1[\"gender\"].map({1:\"0\", 2:\"1\"})\n",
    "df1.head()"
   ]
  },
  {
   "cell_type": "code",
   "execution_count": 258,
   "metadata": {},
   "outputs": [
    {
     "data": {
      "text/html": [
       "<div>\n",
       "<style scoped>\n",
       "    .dataframe tbody tr th:only-of-type {\n",
       "        vertical-align: middle;\n",
       "    }\n",
       "\n",
       "    .dataframe tbody tr th {\n",
       "        vertical-align: top;\n",
       "    }\n",
       "\n",
       "    .dataframe thead th {\n",
       "        text-align: right;\n",
       "    }\n",
       "</style>\n",
       "<table border=\"1\" class=\"dataframe\">\n",
       "  <thead>\n",
       "    <tr style=\"text-align: right;\">\n",
       "      <th></th>\n",
       "      <th>gender</th>\n",
       "      <th>ap_hi</th>\n",
       "      <th>smoke</th>\n",
       "      <th>cardio</th>\n",
       "      <th>age_in_years</th>\n",
       "      <th>chol_1</th>\n",
       "      <th>chol_2</th>\n",
       "      <th>chol_3</th>\n",
       "    </tr>\n",
       "    <tr>\n",
       "      <th>id</th>\n",
       "      <th></th>\n",
       "      <th></th>\n",
       "      <th></th>\n",
       "      <th></th>\n",
       "      <th></th>\n",
       "      <th></th>\n",
       "      <th></th>\n",
       "      <th></th>\n",
       "    </tr>\n",
       "  </thead>\n",
       "  <tbody>\n",
       "    <tr>\n",
       "      <th>0</th>\n",
       "      <td>1</td>\n",
       "      <td>0</td>\n",
       "      <td>0</td>\n",
       "      <td>0</td>\n",
       "      <td>2.0</td>\n",
       "      <td>1</td>\n",
       "      <td>0</td>\n",
       "      <td>0</td>\n",
       "    </tr>\n",
       "    <tr>\n",
       "      <th>1</th>\n",
       "      <td>0</td>\n",
       "      <td>2</td>\n",
       "      <td>0</td>\n",
       "      <td>1</td>\n",
       "      <td>3.0</td>\n",
       "      <td>0</td>\n",
       "      <td>0</td>\n",
       "      <td>1</td>\n",
       "    </tr>\n",
       "    <tr>\n",
       "      <th>2</th>\n",
       "      <td>0</td>\n",
       "      <td>1</td>\n",
       "      <td>0</td>\n",
       "      <td>1</td>\n",
       "      <td>2.0</td>\n",
       "      <td>0</td>\n",
       "      <td>0</td>\n",
       "      <td>1</td>\n",
       "    </tr>\n",
       "    <tr>\n",
       "      <th>3</th>\n",
       "      <td>1</td>\n",
       "      <td>2</td>\n",
       "      <td>0</td>\n",
       "      <td>1</td>\n",
       "      <td>1.0</td>\n",
       "      <td>1</td>\n",
       "      <td>0</td>\n",
       "      <td>0</td>\n",
       "    </tr>\n",
       "    <tr>\n",
       "      <th>4</th>\n",
       "      <td>0</td>\n",
       "      <td>0</td>\n",
       "      <td>0</td>\n",
       "      <td>0</td>\n",
       "      <td>1.0</td>\n",
       "      <td>1</td>\n",
       "      <td>0</td>\n",
       "      <td>0</td>\n",
       "    </tr>\n",
       "  </tbody>\n",
       "</table>\n",
       "</div>"
      ],
      "text/plain": [
       "   gender  ap_hi  smoke  cardio  age_in_years  chol_1  chol_2  chol_3\n",
       "id                                                                   \n",
       "0       1      0      0       0           2.0       1       0       0\n",
       "1       0      2      0       1           3.0       0       0       1\n",
       "2       0      1      0       1           2.0       0       0       1\n",
       "3       1      2      0       1           1.0       1       0       0\n",
       "4       0      0      0       0           1.0       1       0       0"
      ]
     },
     "execution_count": 258,
     "metadata": {},
     "output_type": "execute_result"
    }
   ],
   "source": [
    "df1=df1.drop(columns=[\"age\",\"height\",\"weight\",\"ap_lo\",\"active\",\"alco\",\"glu_1\",\"glu_2\",\"glu_3\"], axis=1)\n",
    "df1.head()"
   ]
  },
  {
   "cell_type": "code",
   "execution_count": 259,
   "metadata": {},
   "outputs": [
    {
     "name": "stderr",
     "output_type": "stream",
     "text": [
      "/Users/klavdius/anaconda3/lib/python3.7/site-packages/sklearn/model_selection/_split.py:2026: FutureWarning: From version 0.21, test_size will always complement train_size unless both are specified.\n",
      "  FutureWarning)\n"
     ]
    }
   ],
   "source": [
    "X = df1.drop(columns=[\"cardio\"])\n",
    "y = df1[\"cardio\"]\n",
    "X_train, X_valid, y_train, y_valid = train_test_split (X, y, train_size=0.7, random_state=17)"
   ]
  },
  {
   "cell_type": "code",
   "execution_count": 260,
   "metadata": {},
   "outputs": [
    {
     "data": {
      "text/plain": [
       "0.7040476190476189"
      ]
     },
     "execution_count": 260,
     "metadata": {},
     "output_type": "execute_result"
    }
   ],
   "source": [
    "# Create a decision tree with the limitation max_depth=3 and train it on the whole train data. Use the \n",
    "#DecisionTreeClassifier class with fixed random_state=17, \n",
    "#but all other arguments (except for max_depth and random_state) should be set by default.\n",
    "tree2=DecisionTreeClassifier(random_state=17, max_depth=3)\n",
    "tree2.fit(X_train,y_train)\n",
    "\n",
    "from sklearn.model_selection import cross_val_score\n",
    "np.mean(cross_val_score (tree2, X_valid, y_valid, cv=5))"
   ]
  },
  {
   "cell_type": "code",
   "execution_count": 261,
   "metadata": {},
   "outputs": [],
   "source": [
    "# ANSWER - ap_hi"
   ]
  },
  {
   "cell_type": "code",
   "execution_count": 262,
   "metadata": {},
   "outputs": [
    {
     "name": "stdout",
     "output_type": "stream",
     "text": [
      "{'criterion': 'gini', 'splitter': 'best', 'max_depth': 3, 'min_samples_split': 2, 'min_samples_leaf': 1, 'min_weight_fraction_leaf': 0.0, 'max_features': None, 'random_state': 17, 'max_leaf_nodes': None, 'min_impurity_decrease': 0.0, 'min_impurity_split': None, 'class_weight': None, 'presort': False, 'n_features_': 7, 'n_outputs_': 1, 'classes_': array([0, 1]), 'n_classes_': 2, 'max_features_': 7, 'tree_': <sklearn.tree._tree.Tree object at 0x1a1c5d75e0>, '_sklearn_version': '0.19.2'}\n"
     ]
    }
   ],
   "source": [
    "print(tree2.__getstate__())"
   ]
  },
  {
   "cell_type": "code",
   "execution_count": 263,
   "metadata": {},
   "outputs": [
    {
     "data": {
      "image/svg+xml": [
       "<?xml version=\"1.0\" encoding=\"UTF-8\" standalone=\"no\"?>\n",
       "<!DOCTYPE svg PUBLIC \"-//W3C//DTD SVG 1.1//EN\"\n",
       " \"http://www.w3.org/Graphics/SVG/1.1/DTD/svg11.dtd\">\n",
       "<!-- Generated by graphviz version 2.40.1 (20161225.0304)\n",
       " -->\n",
       "<!-- Title: Tree Pages: 1 -->\n",
       "<svg width=\"1225pt\" height=\"358pt\"\n",
       " viewBox=\"0.00 0.00 1225.27 358.00\" xmlns=\"http://www.w3.org/2000/svg\" xmlns:xlink=\"http://www.w3.org/1999/xlink\">\n",
       "<g id=\"graph0\" class=\"graph\" transform=\"scale(1 1) rotate(0) translate(4 354)\">\n",
       "<title>Tree</title>\n",
       "<polygon fill=\"#ffffff\" stroke=\"transparent\" points=\"-4,4 -4,-354 1221.2715,-354 1221.2715,4 -4,4\"/>\n",
       "<!-- 0 -->\n",
       "<g id=\"node1\" class=\"node\">\n",
       "<title>0</title>\n",
       "<path fill=\"#e58139\" fill-opacity=\"0.003922\" stroke=\"#000000\" d=\"M680.8726,-350C680.8726,-350 546.185,-350 546.185,-350 540.185,-350 534.185,-344 534.185,-338 534.185,-338 534.185,-298 534.185,-298 534.185,-292 540.185,-286 546.185,-286 546.185,-286 680.8726,-286 680.8726,-286 686.8726,-286 692.8726,-292 692.8726,-298 692.8726,-298 692.8726,-338 692.8726,-338 692.8726,-344 686.8726,-350 680.8726,-350\"/>\n",
       "<text text-anchor=\"start\" x=\"578.939\" y=\"-334.8\" font-family=\"Helvetica,sans-Serif\" font-size=\"14.00\" fill=\"#000000\">ap_hi ≤ 1.5</text>\n",
       "<text text-anchor=\"start\" x=\"584.9238\" y=\"-320.8\" font-family=\"Helvetica,sans-Serif\" font-size=\"14.00\" fill=\"#000000\">gini = 0.5</text>\n",
       "<text text-anchor=\"start\" x=\"560.0205\" y=\"-306.8\" font-family=\"Helvetica,sans-Serif\" font-size=\"14.00\" fill=\"#000000\">samples = 49000</text>\n",
       "<text text-anchor=\"start\" x=\"542.1069\" y=\"-292.8\" font-family=\"Helvetica,sans-Serif\" font-size=\"14.00\" fill=\"#000000\">value = [24531, 24469]</text>\n",
       "</g>\n",
       "<!-- 1 -->\n",
       "<g id=\"node2\" class=\"node\">\n",
       "<title>1</title>\n",
       "<path fill=\"#e58139\" fill-opacity=\"0.388235\" stroke=\"#000000\" d=\"M533.8726,-250C533.8726,-250 399.185,-250 399.185,-250 393.185,-250 387.185,-244 387.185,-238 387.185,-238 387.185,-198 387.185,-198 387.185,-192 393.185,-186 399.185,-186 399.185,-186 533.8726,-186 533.8726,-186 539.8726,-186 545.8726,-192 545.8726,-198 545.8726,-198 545.8726,-238 545.8726,-238 545.8726,-244 539.8726,-250 533.8726,-250\"/>\n",
       "<text text-anchor=\"start\" x=\"428.439\" y=\"-234.8\" font-family=\"Helvetica,sans-Serif\" font-size=\"14.00\" fill=\"#000000\">chol_3 ≤ 0.5</text>\n",
       "<text text-anchor=\"start\" x=\"430.1377\" y=\"-220.8\" font-family=\"Helvetica,sans-Serif\" font-size=\"14.00\" fill=\"#000000\">gini = 0.471</text>\n",
       "<text text-anchor=\"start\" x=\"413.0205\" y=\"-206.8\" font-family=\"Helvetica,sans-Serif\" font-size=\"14.00\" fill=\"#000000\">samples = 36205</text>\n",
       "<text text-anchor=\"start\" x=\"395.1069\" y=\"-192.8\" font-family=\"Helvetica,sans-Serif\" font-size=\"14.00\" fill=\"#000000\">value = [22437, 13768]</text>\n",
       "</g>\n",
       "<!-- 0&#45;&gt;1 -->\n",
       "<g id=\"edge1\" class=\"edge\">\n",
       "<title>0&#45;&gt;1</title>\n",
       "<path fill=\"none\" stroke=\"#000000\" d=\"M566.2079,-285.8089C552.1757,-276.2632 536.6791,-265.7213 522.1706,-255.8516\"/>\n",
       "<polygon fill=\"#000000\" stroke=\"#000000\" points=\"523.9979,-252.8616 513.761,-250.1308 520.0606,-258.6493 523.9979,-252.8616\"/>\n",
       "<text text-anchor=\"middle\" x=\"518.4343\" y=\"-270.4901\" font-family=\"Helvetica,sans-Serif\" font-size=\"14.00\" fill=\"#000000\">True</text>\n",
       "</g>\n",
       "<!-- 8 -->\n",
       "<g id=\"node9\" class=\"node\">\n",
       "<title>8</title>\n",
       "<path fill=\"#399de5\" fill-opacity=\"0.803922\" stroke=\"#000000\" d=\"M837.0864,-250C837.0864,-250 709.9712,-250 709.9712,-250 703.9712,-250 697.9712,-244 697.9712,-238 697.9712,-238 697.9712,-198 697.9712,-198 697.9712,-192 703.9712,-186 709.9712,-186 709.9712,-186 837.0864,-186 837.0864,-186 843.0864,-186 849.0864,-192 849.0864,-198 849.0864,-198 849.0864,-238 849.0864,-238 849.0864,-244 843.0864,-250 837.0864,-250\"/>\n",
       "<text text-anchor=\"start\" x=\"738.939\" y=\"-234.8\" font-family=\"Helvetica,sans-Serif\" font-size=\"14.00\" fill=\"#000000\">ap_hi ≤ 2.5</text>\n",
       "<text text-anchor=\"start\" x=\"737.1377\" y=\"-220.8\" font-family=\"Helvetica,sans-Serif\" font-size=\"14.00\" fill=\"#000000\">gini = 0.274</text>\n",
       "<text text-anchor=\"start\" x=\"720.0205\" y=\"-206.8\" font-family=\"Helvetica,sans-Serif\" font-size=\"14.00\" fill=\"#000000\">samples = 12795</text>\n",
       "<text text-anchor=\"start\" x=\"706\" y=\"-192.8\" font-family=\"Helvetica,sans-Serif\" font-size=\"14.00\" fill=\"#000000\">value = [2094, 10701]</text>\n",
       "</g>\n",
       "<!-- 0&#45;&gt;8 -->\n",
       "<g id=\"edge8\" class=\"edge\">\n",
       "<title>0&#45;&gt;8</title>\n",
       "<path fill=\"none\" stroke=\"#000000\" d=\"M665.0345,-285.8089C680.4505,-276.174 697.4902,-265.5241 713.4087,-255.575\"/>\n",
       "<polygon fill=\"#000000\" stroke=\"#000000\" points=\"715.4946,-258.3988 722.1196,-250.1308 711.7846,-252.4628 715.4946,-258.3988\"/>\n",
       "<text text-anchor=\"middle\" x=\"716.4981\" y=\"-270.2905\" font-family=\"Helvetica,sans-Serif\" font-size=\"14.00\" fill=\"#000000\">False</text>\n",
       "</g>\n",
       "<!-- 2 -->\n",
       "<g id=\"node3\" class=\"node\">\n",
       "<title>2</title>\n",
       "<path fill=\"#e58139\" fill-opacity=\"0.470588\" stroke=\"#000000\" d=\"M307.3404,-150C307.3404,-150 173.7172,-150 173.7172,-150 167.7172,-150 161.7172,-144 161.7172,-138 161.7172,-138 161.7172,-98 161.7172,-98 161.7172,-92 167.7172,-86 173.7172,-86 173.7172,-86 307.3404,-86 307.3404,-86 313.3404,-86 319.3404,-92 319.3404,-98 319.3404,-98 319.3404,-138 319.3404,-138 319.3404,-144 313.3404,-150 307.3404,-150\"/>\n",
       "<text text-anchor=\"start\" x=\"181.0356\" y=\"-134.8\" font-family=\"Helvetica,sans-Serif\" font-size=\"14.00\" fill=\"#000000\">age_in_years ≤ 2.5</text>\n",
       "<text text-anchor=\"start\" x=\"204.1377\" y=\"-120.8\" font-family=\"Helvetica,sans-Serif\" font-size=\"14.00\" fill=\"#000000\">gini = 0.453</text>\n",
       "<text text-anchor=\"start\" x=\"187.0205\" y=\"-106.8\" font-family=\"Helvetica,sans-Serif\" font-size=\"14.00\" fill=\"#000000\">samples = 32880</text>\n",
       "<text text-anchor=\"start\" x=\"169.623\" y=\"-92.8\" font-family=\"Helvetica,sans-Serif\" font-size=\"14.00\" fill=\"#000000\">value = [21502, 11378]</text>\n",
       "</g>\n",
       "<!-- 1&#45;&gt;2 -->\n",
       "<g id=\"edge2\" class=\"edge\">\n",
       "<title>1&#45;&gt;2</title>\n",
       "<path fill=\"none\" stroke=\"#000000\" d=\"M394.0885,-185.9467C371.1786,-175.8096 345.7041,-164.5377 322.1945,-154.1352\"/>\n",
       "<polygon fill=\"#000000\" stroke=\"#000000\" points=\"323.5077,-150.889 312.9467,-150.0433 320.6752,-157.2904 323.5077,-150.889\"/>\n",
       "</g>\n",
       "<!-- 5 -->\n",
       "<g id=\"node6\" class=\"node\">\n",
       "<title>5</title>\n",
       "<path fill=\"#399de5\" fill-opacity=\"0.607843\" stroke=\"#000000\" d=\"M522.515,-150C522.515,-150 410.5426,-150 410.5426,-150 404.5426,-150 398.5426,-144 398.5426,-138 398.5426,-138 398.5426,-98 398.5426,-98 398.5426,-92 404.5426,-86 410.5426,-86 410.5426,-86 522.515,-86 522.515,-86 528.515,-86 534.515,-92 534.515,-98 534.515,-98 534.515,-138 534.515,-138 534.515,-144 528.515,-150 522.515,-150\"/>\n",
       "<text text-anchor=\"start\" x=\"407.0356\" y=\"-134.8\" font-family=\"Helvetica,sans-Serif\" font-size=\"14.00\" fill=\"#000000\">age_in_years ≤ 3.5</text>\n",
       "<text text-anchor=\"start\" x=\"430.1377\" y=\"-120.8\" font-family=\"Helvetica,sans-Serif\" font-size=\"14.00\" fill=\"#000000\">gini = 0.404</text>\n",
       "<text text-anchor=\"start\" x=\"416.9136\" y=\"-106.8\" font-family=\"Helvetica,sans-Serif\" font-size=\"14.00\" fill=\"#000000\">samples = 3325</text>\n",
       "<text text-anchor=\"start\" x=\"406.7861\" y=\"-92.8\" font-family=\"Helvetica,sans-Serif\" font-size=\"14.00\" fill=\"#000000\">value = [935, 2390]</text>\n",
       "</g>\n",
       "<!-- 1&#45;&gt;5 -->\n",
       "<g id=\"edge5\" class=\"edge\">\n",
       "<title>1&#45;&gt;5</title>\n",
       "<path fill=\"none\" stroke=\"#000000\" d=\"M466.5288,-185.8089C466.5288,-177.6906 466.5288,-168.8517 466.5288,-160.3186\"/>\n",
       "<polygon fill=\"#000000\" stroke=\"#000000\" points=\"470.0289,-160.1307 466.5288,-150.1308 463.0289,-160.1308 470.0289,-160.1307\"/>\n",
       "</g>\n",
       "<!-- 3 -->\n",
       "<g id=\"node4\" class=\"node\">\n",
       "<title>3</title>\n",
       "<path fill=\"#e58139\" fill-opacity=\"0.631373\" stroke=\"#000000\" d=\"M139.0864,-50C139.0864,-50 11.9712,-50 11.9712,-50 5.9712,-50 -.0288,-44 -.0288,-38 -.0288,-38 -.0288,-12 -.0288,-12 -.0288,-6 5.9712,0 11.9712,0 11.9712,0 139.0864,0 139.0864,0 145.0864,0 151.0864,-6 151.0864,-12 151.0864,-12 151.0864,-38 151.0864,-38 151.0864,-44 145.0864,-50 139.0864,-50\"/>\n",
       "<text text-anchor=\"start\" x=\"39.1377\" y=\"-34.8\" font-family=\"Helvetica,sans-Serif\" font-size=\"14.00\" fill=\"#000000\">gini = 0.394</text>\n",
       "<text text-anchor=\"start\" x=\"22.0205\" y=\"-20.8\" font-family=\"Helvetica,sans-Serif\" font-size=\"14.00\" fill=\"#000000\">samples = 19800</text>\n",
       "<text text-anchor=\"start\" x=\"8\" y=\"-6.8\" font-family=\"Helvetica,sans-Serif\" font-size=\"14.00\" fill=\"#000000\">value = [14459, 5341]</text>\n",
       "</g>\n",
       "<!-- 2&#45;&gt;3 -->\n",
       "<g id=\"edge3\" class=\"edge\">\n",
       "<title>2&#45;&gt;3</title>\n",
       "<path fill=\"none\" stroke=\"#000000\" d=\"M183.7452,-85.9947C165.9635,-75.9723 146.4108,-64.9517 128.8748,-55.0678\"/>\n",
       "<polygon fill=\"#000000\" stroke=\"#000000\" points=\"130.3386,-51.8752 119.9085,-50.014 126.9015,-57.9732 130.3386,-51.8752\"/>\n",
       "</g>\n",
       "<!-- 4 -->\n",
       "<g id=\"node5\" class=\"node\">\n",
       "<title>4</title>\n",
       "<path fill=\"#e58139\" fill-opacity=\"0.141176\" stroke=\"#000000\" d=\"M300.3006,-50C300.3006,-50 180.7571,-50 180.7571,-50 174.7571,-50 168.7571,-44 168.7571,-38 168.7571,-38 168.7571,-12 168.7571,-12 168.7571,-6 174.7571,0 180.7571,0 180.7571,0 300.3006,0 300.3006,0 306.3006,0 312.3006,-6 312.3006,-12 312.3006,-12 312.3006,-38 312.3006,-38 312.3006,-44 306.3006,-50 300.3006,-50\"/>\n",
       "<text text-anchor=\"start\" x=\"204.1377\" y=\"-34.8\" font-family=\"Helvetica,sans-Serif\" font-size=\"14.00\" fill=\"#000000\">gini = 0.497</text>\n",
       "<text text-anchor=\"start\" x=\"187.0205\" y=\"-20.8\" font-family=\"Helvetica,sans-Serif\" font-size=\"14.00\" fill=\"#000000\">samples = 13080</text>\n",
       "<text text-anchor=\"start\" x=\"176.8931\" y=\"-6.8\" font-family=\"Helvetica,sans-Serif\" font-size=\"14.00\" fill=\"#000000\">value = [7043, 6037]</text>\n",
       "</g>\n",
       "<!-- 2&#45;&gt;4 -->\n",
       "<g id=\"edge4\" class=\"edge\">\n",
       "<title>2&#45;&gt;4</title>\n",
       "<path fill=\"none\" stroke=\"#000000\" d=\"M240.5288,-85.9947C240.5288,-77.6273 240.5288,-68.5643 240.5288,-60.0478\"/>\n",
       "<polygon fill=\"#000000\" stroke=\"#000000\" points=\"244.0289,-60.014 240.5288,-50.014 237.0289,-60.0141 244.0289,-60.014\"/>\n",
       "</g>\n",
       "<!-- 6 -->\n",
       "<g id=\"node7\" class=\"node\">\n",
       "<title>6</title>\n",
       "<path fill=\"#399de5\" fill-opacity=\"0.537255\" stroke=\"#000000\" d=\"M453.515,-50C453.515,-50 341.5426,-50 341.5426,-50 335.5426,-50 329.5426,-44 329.5426,-38 329.5426,-38 329.5426,-12 329.5426,-12 329.5426,-6 335.5426,0 341.5426,0 341.5426,0 453.515,0 453.515,0 459.515,0 465.515,-6 465.515,-12 465.515,-12 465.515,-38 465.515,-38 465.515,-44 459.515,-50 453.515,-50\"/>\n",
       "<text text-anchor=\"start\" x=\"361.1377\" y=\"-34.8\" font-family=\"Helvetica,sans-Serif\" font-size=\"14.00\" fill=\"#000000\">gini = 0.432</text>\n",
       "<text text-anchor=\"start\" x=\"347.9136\" y=\"-20.8\" font-family=\"Helvetica,sans-Serif\" font-size=\"14.00\" fill=\"#000000\">samples = 2196</text>\n",
       "<text text-anchor=\"start\" x=\"337.7861\" y=\"-6.8\" font-family=\"Helvetica,sans-Serif\" font-size=\"14.00\" fill=\"#000000\">value = [693, 1503]</text>\n",
       "</g>\n",
       "<!-- 5&#45;&gt;6 -->\n",
       "<g id=\"edge6\" class=\"edge\">\n",
       "<title>5&#45;&gt;6</title>\n",
       "<path fill=\"none\" stroke=\"#000000\" d=\"M442.7829,-85.9947C436.0974,-76.9837 428.8131,-67.1658 422.0814,-58.0927\"/>\n",
       "<polygon fill=\"#000000\" stroke=\"#000000\" points=\"424.857,-55.9596 416.0876,-50.014 419.2353,-60.1305 424.857,-55.9596\"/>\n",
       "</g>\n",
       "<!-- 7 -->\n",
       "<g id=\"node8\" class=\"node\">\n",
       "<title>7</title>\n",
       "<path fill=\"#399de5\" fill-opacity=\"0.725490\" stroke=\"#000000\" d=\"M599.2284,-50C599.2284,-50 495.8292,-50 495.8292,-50 489.8292,-50 483.8292,-44 483.8292,-38 483.8292,-38 483.8292,-12 483.8292,-12 483.8292,-6 489.8292,0 495.8292,0 495.8292,0 599.2284,0 599.2284,0 605.2284,0 611.2284,-6 611.2284,-12 611.2284,-12 611.2284,-38 611.2284,-38 611.2284,-44 605.2284,-50 599.2284,-50\"/>\n",
       "<text text-anchor=\"start\" x=\"511.1377\" y=\"-34.8\" font-family=\"Helvetica,sans-Serif\" font-size=\"14.00\" fill=\"#000000\">gini = 0.337</text>\n",
       "<text text-anchor=\"start\" x=\"498.4297\" y=\"-20.8\" font-family=\"Helvetica,sans-Serif\" font-size=\"14.00\" fill=\"#000000\">samples = 1129</text>\n",
       "<text text-anchor=\"start\" x=\"491.6792\" y=\"-6.8\" font-family=\"Helvetica,sans-Serif\" font-size=\"14.00\" fill=\"#000000\">value = [242, 887]</text>\n",
       "</g>\n",
       "<!-- 5&#45;&gt;7 -->\n",
       "<g id=\"edge7\" class=\"edge\">\n",
       "<title>5&#45;&gt;7</title>\n",
       "<path fill=\"none\" stroke=\"#000000\" d=\"M494.4044,-85.9947C502.3328,-76.8917 510.9783,-66.9654 518.9479,-57.8152\"/>\n",
       "<polygon fill=\"#000000\" stroke=\"#000000\" points=\"521.8138,-59.8536 525.7424,-50.014 516.5353,-55.2561 521.8138,-59.8536\"/>\n",
       "</g>\n",
       "<!-- 9 -->\n",
       "<g id=\"node10\" class=\"node\">\n",
       "<title>9</title>\n",
       "<path fill=\"#399de5\" fill-opacity=\"0.792157\" stroke=\"#000000\" d=\"M833.3006,-150C833.3006,-150 713.7571,-150 713.7571,-150 707.7571,-150 701.7571,-144 701.7571,-138 701.7571,-138 701.7571,-98 701.7571,-98 701.7571,-92 707.7571,-86 713.7571,-86 713.7571,-86 833.3006,-86 833.3006,-86 839.3006,-86 845.3006,-92 845.3006,-98 845.3006,-98 845.3006,-138 845.3006,-138 845.3006,-144 839.3006,-150 833.3006,-150\"/>\n",
       "<text text-anchor=\"start\" x=\"735.439\" y=\"-134.8\" font-family=\"Helvetica,sans-Serif\" font-size=\"14.00\" fill=\"#000000\">chol_2 ≤ 0.5</text>\n",
       "<text text-anchor=\"start\" x=\"737.1377\" y=\"-120.8\" font-family=\"Helvetica,sans-Serif\" font-size=\"14.00\" fill=\"#000000\">gini = 0.285</text>\n",
       "<text text-anchor=\"start\" x=\"720.0205\" y=\"-106.8\" font-family=\"Helvetica,sans-Serif\" font-size=\"14.00\" fill=\"#000000\">samples = 10065</text>\n",
       "<text text-anchor=\"start\" x=\"709.8931\" y=\"-92.8\" font-family=\"Helvetica,sans-Serif\" font-size=\"14.00\" fill=\"#000000\">value = [1736, 8329]</text>\n",
       "</g>\n",
       "<!-- 8&#45;&gt;9 -->\n",
       "<g id=\"edge9\" class=\"edge\">\n",
       "<title>8&#45;&gt;9</title>\n",
       "<path fill=\"none\" stroke=\"#000000\" d=\"M773.5288,-185.8089C773.5288,-177.6906 773.5288,-168.8517 773.5288,-160.3186\"/>\n",
       "<polygon fill=\"#000000\" stroke=\"#000000\" points=\"777.0289,-160.1307 773.5288,-150.1308 770.0289,-160.1308 777.0289,-160.1307\"/>\n",
       "</g>\n",
       "<!-- 12 -->\n",
       "<g id=\"node13\" class=\"node\">\n",
       "<title>12</title>\n",
       "<path fill=\"#399de5\" fill-opacity=\"0.850980\" stroke=\"#000000\" d=\"M1059.515,-150C1059.515,-150 947.5426,-150 947.5426,-150 941.5426,-150 935.5426,-144 935.5426,-138 935.5426,-138 935.5426,-98 935.5426,-98 935.5426,-92 941.5426,-86 947.5426,-86 947.5426,-86 1059.515,-86 1059.515,-86 1065.515,-86 1071.515,-92 1071.515,-98 1071.515,-98 1071.515,-138 1071.515,-138 1071.515,-144 1065.515,-150 1059.515,-150\"/>\n",
       "<text text-anchor=\"start\" x=\"944.0356\" y=\"-134.8\" font-family=\"Helvetica,sans-Serif\" font-size=\"14.00\" fill=\"#000000\">age_in_years ≤ 1.5</text>\n",
       "<text text-anchor=\"start\" x=\"967.1377\" y=\"-120.8\" font-family=\"Helvetica,sans-Serif\" font-size=\"14.00\" fill=\"#000000\">gini = 0.228</text>\n",
       "<text text-anchor=\"start\" x=\"953.9136\" y=\"-106.8\" font-family=\"Helvetica,sans-Serif\" font-size=\"14.00\" fill=\"#000000\">samples = 2730</text>\n",
       "<text text-anchor=\"start\" x=\"943.7861\" y=\"-92.8\" font-family=\"Helvetica,sans-Serif\" font-size=\"14.00\" fill=\"#000000\">value = [358, 2372]</text>\n",
       "</g>\n",
       "<!-- 8&#45;&gt;12 -->\n",
       "<g id=\"edge12\" class=\"edge\">\n",
       "<title>8&#45;&gt;12</title>\n",
       "<path fill=\"none\" stroke=\"#000000\" d=\"M847.2513,-185.9467C872.5283,-174.9567 900.873,-162.6329 926.4117,-151.5292\"/>\n",
       "<polygon fill=\"#000000\" stroke=\"#000000\" points=\"927.9076,-154.6953 935.6828,-147.4983 925.1165,-148.2758 927.9076,-154.6953\"/>\n",
       "</g>\n",
       "<!-- 10 -->\n",
       "<g id=\"node11\" class=\"node\">\n",
       "<title>10</title>\n",
       "<path fill=\"#399de5\" fill-opacity=\"0.784314\" stroke=\"#000000\" d=\"M760.3006,-50C760.3006,-50 640.7571,-50 640.7571,-50 634.7571,-50 628.7571,-44 628.7571,-38 628.7571,-38 628.7571,-12 628.7571,-12 628.7571,-6 634.7571,0 640.7571,0 640.7571,0 760.3006,0 760.3006,0 766.3006,0 772.3006,-6 772.3006,-12 772.3006,-12 772.3006,-38 772.3006,-38 772.3006,-44 766.3006,-50 760.3006,-50\"/>\n",
       "<text text-anchor=\"start\" x=\"664.1377\" y=\"-34.8\" font-family=\"Helvetica,sans-Serif\" font-size=\"14.00\" fill=\"#000000\">gini = 0.291</text>\n",
       "<text text-anchor=\"start\" x=\"650.9136\" y=\"-20.8\" font-family=\"Helvetica,sans-Serif\" font-size=\"14.00\" fill=\"#000000\">samples = 8106</text>\n",
       "<text text-anchor=\"start\" x=\"636.8931\" y=\"-6.8\" font-family=\"Helvetica,sans-Serif\" font-size=\"14.00\" fill=\"#000000\">value = [1434, 6672]</text>\n",
       "</g>\n",
       "<!-- 9&#45;&gt;10 -->\n",
       "<g id=\"edge10\" class=\"edge\">\n",
       "<title>9&#45;&gt;10</title>\n",
       "<path fill=\"none\" stroke=\"#000000\" d=\"M748.4063,-85.9947C741.3332,-76.9837 733.6267,-67.1658 726.5048,-58.0927\"/>\n",
       "<polygon fill=\"#000000\" stroke=\"#000000\" points=\"729.0911,-55.7191 720.1635,-50.014 723.5848,-60.0413 729.0911,-55.7191\"/>\n",
       "</g>\n",
       "<!-- 11 -->\n",
       "<g id=\"node12\" class=\"node\">\n",
       "<title>11</title>\n",
       "<path fill=\"#399de5\" fill-opacity=\"0.819608\" stroke=\"#000000\" d=\"M913.515,-50C913.515,-50 801.5426,-50 801.5426,-50 795.5426,-50 789.5426,-44 789.5426,-38 789.5426,-38 789.5426,-12 789.5426,-12 789.5426,-6 795.5426,0 801.5426,0 801.5426,0 913.515,0 913.515,0 919.515,0 925.515,-6 925.515,-12 925.515,-12 925.515,-38 925.515,-38 925.515,-44 919.515,-50 913.515,-50\"/>\n",
       "<text text-anchor=\"start\" x=\"821.1377\" y=\"-34.8\" font-family=\"Helvetica,sans-Serif\" font-size=\"14.00\" fill=\"#000000\">gini = 0.261</text>\n",
       "<text text-anchor=\"start\" x=\"807.9136\" y=\"-20.8\" font-family=\"Helvetica,sans-Serif\" font-size=\"14.00\" fill=\"#000000\">samples = 1959</text>\n",
       "<text text-anchor=\"start\" x=\"797.7861\" y=\"-6.8\" font-family=\"Helvetica,sans-Serif\" font-size=\"14.00\" fill=\"#000000\">value = [302, 1657]</text>\n",
       "</g>\n",
       "<!-- 9&#45;&gt;11 -->\n",
       "<g id=\"edge11\" class=\"edge\">\n",
       "<title>9&#45;&gt;11</title>\n",
       "<path fill=\"none\" stroke=\"#000000\" d=\"M802.4368,-85.9947C810.7419,-76.7998 819.8058,-66.7648 828.1395,-57.5381\"/>\n",
       "<polygon fill=\"#000000\" stroke=\"#000000\" points=\"830.83,-59.7811 834.9355,-50.014 825.6352,-55.0891 830.83,-59.7811\"/>\n",
       "</g>\n",
       "<!-- 13 -->\n",
       "<g id=\"node14\" class=\"node\">\n",
       "<title>13</title>\n",
       "<path fill=\"#399de5\" fill-opacity=\"0.874510\" stroke=\"#000000\" d=\"M1051.4419,-50C1051.4419,-50 955.6157,-50 955.6157,-50 949.6157,-50 943.6157,-44 943.6157,-38 943.6157,-38 943.6157,-12 943.6157,-12 943.6157,-6 949.6157,0 955.6157,0 955.6157,0 1051.4419,0 1051.4419,0 1057.4419,0 1063.4419,-6 1063.4419,-12 1063.4419,-12 1063.4419,-38 1063.4419,-38 1063.4419,-44 1057.4419,-50 1051.4419,-50\"/>\n",
       "<text text-anchor=\"start\" x=\"967.1377\" y=\"-34.8\" font-family=\"Helvetica,sans-Serif\" font-size=\"14.00\" fill=\"#000000\">gini = 0.196</text>\n",
       "<text text-anchor=\"start\" x=\"957.8066\" y=\"-20.8\" font-family=\"Helvetica,sans-Serif\" font-size=\"14.00\" fill=\"#000000\">samples = 481</text>\n",
       "<text text-anchor=\"start\" x=\"951.5723\" y=\"-6.8\" font-family=\"Helvetica,sans-Serif\" font-size=\"14.00\" fill=\"#000000\">value = [53, 428]</text>\n",
       "</g>\n",
       "<!-- 12&#45;&gt;13 -->\n",
       "<g id=\"edge13\" class=\"edge\">\n",
       "<title>12&#45;&gt;13</title>\n",
       "<path fill=\"none\" stroke=\"#000000\" d=\"M1003.5288,-85.9947C1003.5288,-77.6273 1003.5288,-68.5643 1003.5288,-60.0478\"/>\n",
       "<polygon fill=\"#000000\" stroke=\"#000000\" points=\"1007.0289,-60.014 1003.5288,-50.014 1000.0289,-60.0141 1007.0289,-60.014\"/>\n",
       "</g>\n",
       "<!-- 14 -->\n",
       "<g id=\"node15\" class=\"node\">\n",
       "<title>14</title>\n",
       "<path fill=\"#399de5\" fill-opacity=\"0.843137\" stroke=\"#000000\" d=\"M1205.515,-50C1205.515,-50 1093.5426,-50 1093.5426,-50 1087.5426,-50 1081.5426,-44 1081.5426,-38 1081.5426,-38 1081.5426,-12 1081.5426,-12 1081.5426,-6 1087.5426,0 1093.5426,0 1093.5426,0 1205.515,0 1205.515,0 1211.515,0 1217.515,-6 1217.515,-12 1217.515,-12 1217.515,-38 1217.515,-38 1217.515,-44 1211.515,-50 1205.515,-50\"/>\n",
       "<text text-anchor=\"start\" x=\"1113.1377\" y=\"-34.8\" font-family=\"Helvetica,sans-Serif\" font-size=\"14.00\" fill=\"#000000\">gini = 0.234</text>\n",
       "<text text-anchor=\"start\" x=\"1099.9136\" y=\"-20.8\" font-family=\"Helvetica,sans-Serif\" font-size=\"14.00\" fill=\"#000000\">samples = 2249</text>\n",
       "<text text-anchor=\"start\" x=\"1089.7861\" y=\"-6.8\" font-family=\"Helvetica,sans-Serif\" font-size=\"14.00\" fill=\"#000000\">value = [305, 1944]</text>\n",
       "</g>\n",
       "<!-- 12&#45;&gt;14 -->\n",
       "<g id=\"edge14\" class=\"edge\">\n",
       "<title>12&#45;&gt;14</title>\n",
       "<path fill=\"none\" stroke=\"#000000\" d=\"M1053.7737,-85.9947C1069.2191,-76.1562 1086.1746,-65.3558 1101.4698,-55.613\"/>\n",
       "<polygon fill=\"#000000\" stroke=\"#000000\" points=\"1103.7056,-58.3386 1110.2595,-50.014 1099.9448,-52.4346 1103.7056,-58.3386\"/>\n",
       "</g>\n",
       "</g>\n",
       "</svg>\n"
      ],
      "text/plain": [
       "<graphviz.files.Source at 0x1a1e6b8cc0>"
      ]
     },
     "execution_count": 263,
     "metadata": {},
     "output_type": "execute_result"
    }
   ],
   "source": [
    "dot_data1 = export_graphviz(tree2, out_file=None, filled=True, rounded=True, special_characters=True, \n",
    "                           feature_names=X_train.columns) \n",
    "graph1 = graphviz.Source(dot_data1)\n",
    "graph1"
   ]
  },
  {
   "cell_type": "code",
   "execution_count": null,
   "metadata": {},
   "outputs": [],
   "source": []
  },
  {
   "cell_type": "code",
   "execution_count": null,
   "metadata": {},
   "outputs": [],
   "source": []
  }
 ],
 "metadata": {
  "kernelspec": {
   "display_name": "Python 3",
   "language": "python",
   "name": "python3"
  },
  "language_info": {
   "codemirror_mode": {
    "name": "ipython",
    "version": 3
   },
   "file_extension": ".py",
   "mimetype": "text/x-python",
   "name": "python",
   "nbconvert_exporter": "python",
   "pygments_lexer": "ipython3",
   "version": "3.7.0"
  }
 },
 "nbformat": 4,
 "nbformat_minor": 2
}
